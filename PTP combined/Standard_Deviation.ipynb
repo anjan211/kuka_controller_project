{
 "cells": [
  {
   "cell_type": "code",
   "execution_count": 15,
   "metadata": {},
   "outputs": [],
   "source": [
    "import os\n",
    "import pandas as pd\n",
    "import numpy as np\n",
    "from sklearn.preprocessing import MinMaxScaler\n",
    "from openpyxl import Workbook"
   ]
  },
  {
   "cell_type": "code",
   "execution_count": 16,
   "metadata": {},
   "outputs": [
    {
     "data": {
      "text/plain": [
       "<Cell 'Sheet'.A4>"
      ]
     },
     "execution_count": 16,
     "metadata": {},
     "output_type": "execute_result"
    }
   ],
   "source": [
    "wb = Workbook()\n",
    "ws = wb.active\n",
    "ws.cell(column=1, row=1, value='Combinations with A1')\n",
    "ws.cell(column=1, row=3, value='Standard Deviation')\n",
    "ws.cell(column=1, row=4, value='Maximum')\n"
   ]
  },
  {
   "cell_type": "code",
   "execution_count": 17,
   "metadata": {},
   "outputs": [
    {
     "data": {
      "text/plain": [
       "['KukaOL - 0_A1_A2_2_NextGenDrive#1.csv',\n",
       " 'KukaOL - 0_A1_A3_2_NextGenDrive#1.csv',\n",
       " 'KukaOL - 0_A1_A4_2_NextGenDrive#1.csv',\n",
       " 'KukaOL - 0_A1_A5_2_NextGenDrive#1.csv',\n",
       " 'KukaOL - 0_A1_A6_2_NextGenDrive#1.csv',\n",
       " 'KukaOL - 0_A2_A4_2_NextGenDrive#2.csv',\n",
       " 'KukaOL - 0_A3_A6_2_NextGenDrive#3.csv']"
      ]
     },
     "execution_count": 17,
     "metadata": {},
     "output_type": "execute_result"
    }
   ],
   "source": [
    "# Fetch all files\n",
    "PATH = './'\n",
    "fileNames = os.listdir(PATH)\n",
    "fileNames_Sim = [file for file in fileNames if '.csv' and 'KukaOL' in file]\n",
    "fileNames_Real = [file for file in fileNames if '.csv' and 'WINDOWS' in file]\n",
    "fileNames_Sim"
   ]
  },
  {
   "cell_type": "code",
   "execution_count": 18,
   "metadata": {},
   "outputs": [
    {
     "name": "stdout",
     "output_type": "stream",
     "text": [
      "0.012117720182426498\n",
      "0.04882524152376555\n",
      "0.02626921163237889\n",
      "0.1523223323731832\n",
      "0.11074401175433272\n",
      "0.49231703650935543\n",
      "0.0471136020115766\n",
      "0.23539339645811874\n",
      "0.12567234032721403\n",
      "0.5005513805880686\n"
     ]
    }
   ],
   "source": [
    "li_Sim = []\n",
    "li_Real =[]\n",
    "if (len(fileNames_Sim)==len(fileNames_Real)):\n",
    "    for i in range (len(fileNames_Sim)-2):\n",
    "\n",
    "        # Read csv\n",
    "        df_Sim = pd.read_csv(fileNames_Sim[i], delimiter=';', encoding='cp1252')\n",
    "        df_Real = pd.read_csv(fileNames_Real[i], delimiter=';', encoding='cp1252')\n",
    "        li_Sim.append(df_Sim)\n",
    "        li_Real.append(df_Real)\n",
    "\n",
    "        # Scaling\n",
    "        scalar = MinMaxScaler()\n",
    "        scaled_Sim = scalar.fit_transform(li_Sim[i])\n",
    "        scaled_Real = scalar.fit_transform(li_Real[i])\n",
    "        scaled_Sim_df = pd.DataFrame(scaled_Sim, columns=li_Sim[i].columns)\n",
    "        scaled_Real_df = pd.DataFrame(scaled_Real, columns=li_Real[i].columns)\n",
    "\n",
    "        pos_col = df_Sim.columns[5]\n",
    "        diff = np.array([abs(scaled_Real_df[pos_col] - scaled_Sim_df[pos_col])])\n",
    "        # non_nan_diff = diff[np.isfinite(diff)]\n",
    "        # print(non_nan_diff)\n",
    "        std = np.nanstd(diff)\n",
    "        max = np.nanmax(diff)\n",
    "        # print('Standard deviation of scaled difference for Axis ' + str(i+1) + ' = ' + str(std))\n",
    "        # print('Maximum of scaled difference for Axis ' + str(i+1) + ' = ' + str(max))\n",
    "        \n",
    "        print (std)\n",
    "        print (max)\n",
    "\n",
    "        # Write to excel\n",
    "        ws.cell(column=i+2, row=1, value='A1-A'+str(i+2))\n",
    "        ws.cell(column=i+2, row=3, value=std)\n",
    "        ws.cell(column=i+2, row=4, value=max)\n",
    "\n",
    "\n",
    "wb.save(filename='Standard_Deviation and Max.xlsx')\n",
    "\n",
    "     "
   ]
  }
 ],
 "metadata": {
  "interpreter": {
   "hash": "99674ea3e0e886a70bb79bc3b0b36142b5b25a2e95824ec71064eb365bd353b2"
  },
  "kernelspec": {
   "display_name": "Python 3.9.7 64-bit ('base': conda)",
   "language": "python",
   "name": "python3"
  },
  "language_info": {
   "codemirror_mode": {
    "name": "ipython",
    "version": 3
   },
   "file_extension": ".py",
   "mimetype": "text/x-python",
   "name": "python",
   "nbconvert_exporter": "python",
   "pygments_lexer": "ipython3",
   "version": "3.9.7"
  },
  "orig_nbformat": 4
 },
 "nbformat": 4,
 "nbformat_minor": 2
}
