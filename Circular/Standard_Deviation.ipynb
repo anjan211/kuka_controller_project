{
 "cells": [
  {
   "cell_type": "code",
   "execution_count": 1,
   "metadata": {},
   "outputs": [],
   "source": [
    "import os\n",
    "import pandas as pd\n",
    "import numpy as np\n",
    "from sklearn.preprocessing import MinMaxScaler\n",
    "from openpyxl import Workbook"
   ]
  },
  {
   "cell_type": "code",
   "execution_count": 2,
   "metadata": {},
   "outputs": [
    {
     "data": {
      "text/plain": [
       "<Cell 'Sheet'.A4>"
      ]
     },
     "execution_count": 2,
     "metadata": {},
     "output_type": "execute_result"
    }
   ],
   "source": [
    "wb = Workbook()\n",
    "ws = wb.active\n",
    "ws.cell(column=1, row=3, value='Standard Deviation')\n",
    "ws.cell(column=1, row=4, value='Maximum')\n"
   ]
  },
  {
   "cell_type": "code",
   "execution_count": 3,
   "metadata": {},
   "outputs": [],
   "source": [
    "# Fetch all files\n",
    "PATH = './'\n",
    "fileNames = os.listdir(PATH)\n",
    "fileNames_Sim = [file for file in fileNames if '.csv' and 'KukaOL' in file]\n",
    "fileNames_Real = [file for file in fileNames if '.csv' and 'WINDOWS' in file]"
   ]
  },
  {
   "cell_type": "code",
   "execution_count": 6,
   "metadata": {},
   "outputs": [
    {
     "name": "stdout",
     "output_type": "stream",
     "text": [
      "Standard deviation of scaled difference for Pitch = 0.00415668361194129\n",
      "Maximum of scaled difference for Pitch = 0.016871055536885726\n",
      "Standard deviation of scaled difference for Roll = 0.003026023945209621\n",
      "Maximum of scaled difference for Roll = 0.012409804117153644\n",
      "Standard deviation of scaled difference for Yaw = 0.002366190155367767\n",
      "Maximum of scaled difference for Yaw = 0.012597693662586451\n"
     ]
    }
   ],
   "source": [
    "#Standard Deviation of Cartesian Velocity - Linear\n",
    "\n",
    "li_Sim = []\n",
    "li_Real =[]\n",
    "wb = Workbook()\n",
    "ws = wb.active\n",
    "ws.title = \"Cartesian Velocity - Circular\"\n",
    "ws.cell(column=1, row=3, value='Standard Deviation')\n",
    "ws.cell(column=1, row=4, value='Maximum')\n",
    "if (len(fileNames_Real)==len(fileNames_Sim)):\n",
    "    for i in range (len(fileNames_Real)):\n",
    "\n",
    "        if i == 0:\n",
    "            string = 'Pitch'\n",
    "        elif i == 1:\n",
    "            string = 'Roll'\n",
    "        else:\n",
    "            string = 'Yaw'\n",
    "\n",
    "        # Read csv\n",
    "        df_Sim = pd.read_csv(fileNames_Sim[i], delimiter=';', encoding='cp1252')\n",
    "        df_Real = pd.read_csv(fileNames_Real[i], delimiter=';', encoding='cp1252')\n",
    "        li_Sim.append(df_Sim.iloc[1:,:])\n",
    "        li_Real.append(df_Real.iloc[1:,:])\n",
    "\n",
    "        # Scaling\n",
    "        scalar = MinMaxScaler()\n",
    "        scaled_Sim = scalar.fit_transform(li_Sim[i])\n",
    "        scaled_Real = scalar.fit_transform(li_Real[i])\n",
    "        scaled_Sim_df = pd.DataFrame(scaled_Sim, columns=li_Sim[i].columns)\n",
    "        scaled_Real_df = pd.DataFrame(scaled_Real, columns=li_Real[i].columns)\n",
    "\n",
    "        pos_col = scaled_Sim_df.columns[21]\n",
    "        diff = np.array([abs(scaled_Real_df[pos_col] - scaled_Sim_df[pos_col])])\n",
    "        # non_nan_diff = diff[np.isfinite(diff)]\n",
    "        # print(non_nan_diff)\n",
    "        std = np.nanstd(diff)\n",
    "        max = np.nanmax(diff)\n",
    "        print('Standard deviation of scaled difference for ' + string + ' = ' + str(std))\n",
    "        print('Maximum of scaled difference for ' + string + ' = ' + str(max))\n",
    "        \n",
    "        # # Write to excel\n",
    "        ws.cell(column=i+2, row=1, value=string)\n",
    "        ws.cell(column=i+2, row=3, value=std)\n",
    "        ws.cell(column=i+2, row=4, value=max)\n",
    "\n",
    "wb.save(filename='Standard_Deviation and Max.xlsx')\n"
   ]
  },
  {
   "cell_type": "code",
   "execution_count": 5,
   "metadata": {},
   "outputs": [
    {
     "name": "stdout",
     "output_type": "stream",
     "text": [
      "Standard deviation of scaled difference for Axis 1 = 0.003657403793311366\n",
      "Standard deviation of scaled difference for Axis 2 = 0.0033369125930914727\n",
      "Standard deviation of scaled difference for Axis 3 = 0.002947881383821372\n",
      "Standard deviation of scaled difference for Axis 4 = 0.0027411825006436854\n",
      "Standard deviation of scaled difference for Axis 5 = 0.003125487339547781\n",
      "Standard deviation of scaled difference for Axis 6 = 0.0025843484731678567\n",
      "Standard deviation of scaled difference for Axis 1 = 0.004426254425890574\n",
      "Standard deviation of scaled difference for Axis 2 = 0.004251520876986325\n",
      "Standard deviation of scaled difference for Axis 3 = 0.0031639960296445785\n",
      "Standard deviation of scaled difference for Axis 4 = 0.0048111996613040865\n",
      "Standard deviation of scaled difference for Axis 5 = 0.004186718158168615\n",
      "Standard deviation of scaled difference for Axis 6 = 0.004102613816328485\n",
      "Standard deviation of scaled difference for Axis 1 = 0.004567715441244399\n",
      "Standard deviation of scaled difference for Axis 2 = 0.003230849380722437\n",
      "Standard deviation of scaled difference for Axis 3 = 0.002794778091767255\n",
      "Standard deviation of scaled difference for Axis 4 = 0.004872243837479147\n",
      "Standard deviation of scaled difference for Axis 5 = 0.004454878938658642\n",
      "Standard deviation of scaled difference for Axis 6 = 0.003617873536707983\n"
     ]
    }
   ],
   "source": [
    "#Standard Deviation of robot axis - Linear\n",
    "\n",
    "li_Sim = []\n",
    "li_Real =[]\n",
    "wb = Workbook()\n",
    "ws = wb.active\n",
    "ws.title = \"Circular\"\n",
    "\n",
    "# ws.cell(column=1, row=4, value='Maximum')\n",
    "if (len(fileNames_Real)==len(fileNames_Sim)):\n",
    "    for i in range (len(fileNames_Real)):\n",
    "\n",
    "        if i == 0:\n",
    "            string = 'Pitch'\n",
    "        elif i == 1:\n",
    "            string = 'Roll'\n",
    "        else:\n",
    "            string = 'Yaw'\n",
    "\n",
    "        ws.cell(column=1, row=i+3, value='Std_dev ' + string)\n",
    "\n",
    "        # Read csv\n",
    "        df_Sim = pd.read_csv(fileNames_Sim[i], delimiter=';', encoding='cp1252')\n",
    "        df_Real = pd.read_csv(fileNames_Real[i], delimiter=';', encoding='cp1252')\n",
    "        li_Sim.append(df_Sim)\n",
    "        li_Real.append(df_Real)\n",
    "\n",
    "        # Scaling\n",
    "        scalar = MinMaxScaler()\n",
    "        scaled_Sim = scalar.fit_transform(li_Sim[i])\n",
    "        scaled_Real = scalar.fit_transform(li_Real[i])\n",
    "        scaled_Sim_df = pd.DataFrame(scaled_Sim, columns=li_Sim[i].columns)\n",
    "        scaled_Real_df = pd.DataFrame(scaled_Real, columns=li_Real[i].columns)\n",
    "\n",
    "        for j in range(6):\n",
    "\n",
    "            pos_col = scaled_Sim_df.columns[j+7]\n",
    "            diff = np.array([abs(scaled_Real_df[pos_col] - scaled_Sim_df[pos_col])])\n",
    "            # non_nan_diff = diff[np.isfinite(diff)]\n",
    "            # print(non_nan_diff)\n",
    "            std = np.nanstd(diff)\n",
    "            max = np.nanmax(diff)\n",
    "            print('Standard deviation of scaled difference for Axis ' + str(j+1) + ' = ' + str(std))\n",
    "            # print('Maximum of scaled difference for Axis ' + str(i+1) + ' = ' + str(max))\n",
    "        \n",
    "            # # Write to excel\n",
    "            ws.cell(column=j+2, row=1, value='Axis '+str(j+1))\n",
    "            ws.cell(column=j+2, row=i+3, value=std)\n",
    "            # ws.cell(column=i+2, row=4, value=max)\n",
    "\n",
    "wb.save(filename='Standard_Deviation Circ.xlsx')\n"
   ]
  }
 ],
 "metadata": {
  "interpreter": {
   "hash": "07efdcd4b820c98a756949507a4d29d7862823915ec7477944641bea022f4f62"
  },
  "kernelspec": {
   "display_name": "Python 3.8.5 64-bit (conda)",
   "name": "python3"
  },
  "language_info": {
   "codemirror_mode": {
    "name": "ipython",
    "version": 3
   },
   "file_extension": ".py",
   "mimetype": "text/x-python",
   "name": "python",
   "nbconvert_exporter": "python",
   "pygments_lexer": "ipython3",
   "version": "3.8.5"
  },
  "orig_nbformat": 4
 },
 "nbformat": 4,
 "nbformat_minor": 2
}
