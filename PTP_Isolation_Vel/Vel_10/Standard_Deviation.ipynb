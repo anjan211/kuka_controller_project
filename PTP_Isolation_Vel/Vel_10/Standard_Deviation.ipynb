{
 "cells": [
  {
   "cell_type": "code",
   "execution_count": 1,
   "metadata": {},
   "outputs": [],
   "source": [
    "import os\n",
    "import shutil\n",
    "import pandas as pd\n",
    "import numpy as np\n",
    "from sklearn.preprocessing import MinMaxScaler\n",
    "from openpyxl import Workbook"
   ]
  },
  {
   "cell_type": "markdown",
   "metadata": {},
   "source": [
    "Initialize a workbook"
   ]
  },
  {
   "cell_type": "code",
   "execution_count": 2,
   "metadata": {},
   "outputs": [
    {
     "data": {
      "text/plain": [
       "<Cell 'Sheet'.A5>"
      ]
     },
     "execution_count": 2,
     "metadata": {},
     "output_type": "execute_result"
    }
   ],
   "source": [
    "wb = Workbook()\n",
    "#Get currently active sheet\n",
    "ws = wb.active\n",
    "ws.cell(column=1, row=3, value='Standard Deviation')\n",
    "ws.cell(column=1, row=4, value='Maximum')\n",
    "ws.cell(column=1, row=5, value='Mean')"
   ]
  },
  {
   "cell_type": "markdown",
   "metadata": {},
   "source": [
    "Fetching all the trace files and storing them in two variables. One of them include trace files of Simulation for PTP with isolated axis at 10% velocity, while the other two variables include trace files of Real robot."
   ]
  },
  {
   "cell_type": "code",
   "execution_count": 3,
   "metadata": {},
   "outputs": [],
   "source": [
    "# Fetch all regular motion files\n",
    "target_path_1 = '../../Traces_Real/PTP_Vel'\n",
    "target_path_2 = '../../Traces_Simulation/PTP_vel_new'\n",
    "\n",
    "root_path = './New'\n",
    "fileNames_1 = os.listdir(target_path_1)\n",
    "fileNames_2 = os.listdir(target_path_2)\n",
    "\n",
    "fileNames_Real = [file for file in fileNames_1 if '50_po85_KRCIpo.csv' in file]\n",
    "fileNames_Sim = [file for file in fileNames_2 if '50_KRCIpo.csv' in file]\n",
    "\n",
    "for file in fileNames_Real:\n",
    "    shutil.copy(os.path.join(target_path_1, file), root_path)\n",
    "\n",
    "for file in fileNames_Sim:\n",
    "    shutil.copy(os.path.join(target_path_2, file), root_path)"
   ]
  },
  {
   "cell_type": "markdown",
   "metadata": {},
   "source": [
    "Standard Deviation between real robot and simulation for PTP with isolated axis at 10% velocity"
   ]
  },
  {
   "cell_type": "code",
   "execution_count": 4,
   "metadata": {},
   "outputs": [
    {
     "name": "stdout",
     "output_type": "stream",
     "text": [
      "Standard deviation of scaled difference for Axis 1 = 0.0014494363697131179\n",
      "Maximum of scaled difference for Axis 1 = 0.004188062556162553\n",
      "Mean of scaled difference for Axis 1 = 0.0024976802414420083\n",
      "Standard deviation of scaled difference for Axis 2 = 0.0022648546056742965\n",
      "Maximum of scaled difference for Axis 2 = 0.0062658782667179835\n",
      "Mean of scaled difference for Axis 2 = 0.0027325335084786664\n",
      "Standard deviation of scaled difference for Axis 3 = 0.0024193337767834232\n",
      "Maximum of scaled difference for Axis 3 = 0.007235890714274662\n",
      "Mean of scaled difference for Axis 3 = 0.0035613062444777256\n",
      "Standard deviation of scaled difference for Axis 4 = 0.0006117199045281294\n",
      "Maximum of scaled difference for Axis 4 = 0.0022538699195621126\n",
      "Mean of scaled difference for Axis 4 = 0.0014187324434956812\n",
      "Standard deviation of scaled difference for Axis 5 = 0.001146302334935073\n",
      "Maximum of scaled difference for Axis 5 = 0.004308667295498558\n",
      "Mean of scaled difference for Axis 5 = 0.0021082872285749666\n",
      "Standard deviation of scaled difference for Axis 6 = 0.0038282751189658293\n",
      "Maximum of scaled difference for Axis 6 = 0.010206131066991198\n",
      "Mean of scaled difference for Axis 6 = 0.007178950748671068\n"
     ]
    }
   ],
   "source": [
    "#Standard Deviation of PTP with isolated axis with 10% velocity\n",
    "\n",
    "li_Sim = []\n",
    "li_Real =[]\n",
    "if (len(fileNames_Sim)==len(fileNames_Real)):\n",
    "    for i in range (len(fileNames_Sim)):\n",
    "\n",
    "        sim = root_path + '/' + fileNames_Sim[i]\n",
    "        real = root_path + '/' + fileNames_Real[i]\n",
    "\n",
    "        # Read csv\n",
    "        df_Sim = pd.read_csv(sim, delimiter=';', encoding='cp1252')\n",
    "        df_Real = pd.read_csv(real, delimiter=';', encoding='cp1252')\n",
    "        li_Sim.append(df_Sim)\n",
    "        li_Real.append(df_Real)\n",
    "\n",
    "        # Scaling\n",
    "        scalar = MinMaxScaler()\n",
    "        scaled_Sim = scalar.fit_transform(li_Sim[i])\n",
    "        scaled_Real = scalar.fit_transform(li_Real[i])\n",
    "        scaled_Sim_df = pd.DataFrame(scaled_Sim, columns=li_Sim[i].columns)\n",
    "        scaled_Real_df = pd.DataFrame(scaled_Real, columns=li_Real[i].columns)\n",
    "\n",
    "        #Calculate standard deviation and the Maximum difference\n",
    "        pos_col = scaled_Sim_df.columns[i+7]\n",
    "        diff = np.array([abs(scaled_Real_df[pos_col] - scaled_Sim_df[pos_col])])\n",
    "        std = np.nanstd(diff)\n",
    "        max = np.nanmax(diff)\n",
    "        mean = np.nanmean(diff)\n",
    "        print('Standard deviation of scaled difference for Axis ' + str(i+1) + ' = ' + str(std))\n",
    "        print('Maximum of scaled difference for Axis ' + str(i+1) + ' = ' + str(max))\n",
    "        print('Mean of scaled difference for Axis ' + str(i+1) + ' = ' + str(mean))\n",
    "        \n",
    "        # Write to excel\n",
    "        ws.cell(column=i+2, row=1, value='Axis'+str(i+1))\n",
    "        ws.cell(column=i+2, row=3, value=std)\n",
    "        ws.cell(column=i+2, row=4, value=max)\n",
    "        ws.cell(column=i+2, row=5, value=mean)\n",
    "\n",
    "#Save the Workbook\n",
    "wb.save(filename='Standard_Deviation and Max_50.xlsx')"
   ]
  }
 ],
 "metadata": {
  "interpreter": {
   "hash": "99674ea3e0e886a70bb79bc3b0b36142b5b25a2e95824ec71064eb365bd353b2"
  },
  "kernelspec": {
   "display_name": "Python 3.9.7 64-bit ('base': conda)",
   "language": "python",
   "name": "python3"
  },
  "language_info": {
   "codemirror_mode": {
    "name": "ipython",
    "version": 3
   },
   "file_extension": ".py",
   "mimetype": "text/x-python",
   "name": "python",
   "nbconvert_exporter": "python",
   "pygments_lexer": "ipython3",
   "version": "3.8.5"
  },
  "orig_nbformat": 4
 },
 "nbformat": 4,
 "nbformat_minor": 2
}
