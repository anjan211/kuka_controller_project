{
 "cells": [
  {
   "cell_type": "code",
   "execution_count": 1,
   "metadata": {},
   "outputs": [],
   "source": [
    "import os\n",
    "import pandas as pd\n",
    "import numpy as np\n",
    "from sklearn.preprocessing import MinMaxScaler\n",
    "from openpyxl import Workbook"
   ]
  },
  {
   "cell_type": "code",
   "execution_count": 2,
   "metadata": {},
   "outputs": [],
   "source": [
    "wb = Workbook()\n",
    "ws = wb.active"
   ]
  },
  {
   "cell_type": "code",
   "execution_count": 3,
   "metadata": {},
   "outputs": [],
   "source": [
    "# Fetch all files\n",
    "PATH = './'\n",
    "fileNames = os.listdir(PATH)\n",
    "fileNames_Sim = [file for file in fileNames if '.csv' and 'KukaOL' in file]\n",
    "fileNames_Real = [file for file in fileNames if '.csv' and 'WINDOWS' in file]"
   ]
  },
  {
   "cell_type": "code",
   "execution_count": 4,
   "metadata": {},
   "outputs": [
    {
     "name": "stdout",
     "output_type": "stream",
     "text": [
      "0.03838429892367952\n",
      "0.016987534064480486\n",
      "0.05958942708979525\n",
      "0.04150802589602881\n",
      "0.09049341558196465\n",
      "0.1326263980911156\n"
     ]
    }
   ],
   "source": [
    "li_Sim = []\n",
    "li_Real =[]\n",
    "if (len(fileNames_Sim)==len(fileNames_Real)):\n",
    "    for i in range (len(fileNames_Sim)):\n",
    "\n",
    "        # Read csv\n",
    "        df_Sim = pd.read_csv(fileNames_Sim[i], delimiter=';', encoding='cp1252')\n",
    "        df_Real = pd.read_csv(fileNames_Real[i], delimiter=';', encoding='cp1252')\n",
    "        li_Sim.append(df_Sim)\n",
    "        li_Real.append(df_Real)\n",
    "\n",
    "        # Scaling\n",
    "        scalar = MinMaxScaler()\n",
    "        scaled_Sim = scalar.fit_transform(li_Sim[i])\n",
    "        scaled_Real = scalar.fit_transform(li_Real[i])\n",
    "        scaled_Sim_df = pd.DataFrame(scaled_Sim, columns=li_Sim[i].columns)\n",
    "        scaled_Real_df = pd.DataFrame(scaled_Real, columns=li_Real[i].columns)\n",
    "\n",
    "        pos_col = scaled_Sim_df.columns[i+7]\n",
    "        diff = np.array([scaled_Sim_df[pos_col] - scaled_Real_df[pos_col]])\n",
    "        non_nan_diff = diff[np.isfinite(diff)]\n",
    "        std = np.std(non_nan_diff)\n",
    "        print(std)\n",
    "        \n",
    "        # Write to excel\n",
    "        ws.cell(column=i+1, row=1, value='Axis'+str(i+1))\n",
    "        ws.cell(column=i+1, row=3, value=std)\n",
    "\n",
    "\n",
    "wb.save(filename='Standard_Deviation.xlsx')\n",
    "\n",
    "     "
   ]
  }
 ],
 "metadata": {
  "interpreter": {
   "hash": "99674ea3e0e886a70bb79bc3b0b36142b5b25a2e95824ec71064eb365bd353b2"
  },
  "kernelspec": {
   "display_name": "Python 3.9.7 64-bit ('base': conda)",
   "language": "python",
   "name": "python3"
  },
  "language_info": {
   "codemirror_mode": {
    "name": "ipython",
    "version": 3
   },
   "file_extension": ".py",
   "mimetype": "text/x-python",
   "name": "python",
   "nbconvert_exporter": "python",
   "pygments_lexer": "ipython3",
   "version": "3.9.7"
  },
  "orig_nbformat": 4
 },
 "nbformat": 4,
 "nbformat_minor": 2
}
