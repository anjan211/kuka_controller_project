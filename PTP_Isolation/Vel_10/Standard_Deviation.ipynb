{
 "cells": [
  {
   "cell_type": "code",
   "execution_count": 1,
   "metadata": {},
   "outputs": [],
   "source": [
    "import os\n",
    "import pandas as pd\n",
    "import numpy as np\n",
    "from sklearn.preprocessing import MinMaxScaler\n",
    "from openpyxl import Workbook"
   ]
  },
  {
   "cell_type": "markdown",
   "metadata": {},
   "source": [
    "Initialize a workbook"
   ]
  },
  {
   "cell_type": "code",
   "execution_count": 2,
   "metadata": {},
   "outputs": [
    {
     "data": {
      "text/plain": [
       "<Cell 'Sheet'.A4>"
      ]
     },
     "execution_count": 2,
     "metadata": {},
     "output_type": "execute_result"
    }
   ],
   "source": [
    "wb = Workbook()\n",
    "#Get currently active sheet\n",
    "ws = wb.active\n",
    "ws.cell(column=1, row=3, value='Standard Deviation')\n",
    "ws.cell(column=1, row=4, value='Maximum')"
   ]
  },
  {
   "cell_type": "markdown",
   "metadata": {},
   "source": [
    "Fetching all the trace files and storing them in two variables. One of them include trace files of Simulation for PTP with isolated axis at 10% velocity, while the other two variables include trace files of Real robot."
   ]
  },
  {
   "cell_type": "code",
   "execution_count": 3,
   "metadata": {},
   "outputs": [],
   "source": [
    "# Fetch all files\n",
    "PATH = './'\n",
    "fileNames = os.listdir(PATH)\n",
    "fileNames_Sim = [file for file in fileNames if '.csv' and 'KukaOL' in file]\n",
    "fileNames_Real = [file for file in fileNames if '.csv' and 'WINDOWS' in file]"
   ]
  },
  {
   "cell_type": "markdown",
   "metadata": {},
   "source": [
    "Standard Deviation between real robot and simulation for PTP with isolated axis at 10% velocity"
   ]
  },
  {
   "cell_type": "code",
   "execution_count": 4,
   "metadata": {},
   "outputs": [
    {
     "name": "stdout",
     "output_type": "stream",
     "text": [
      "Standard deviation of scaled difference for Axis 1 = 0.0017530542832388683\n",
      "Maximum of scaled difference for Axis 1 = 0.005324698759889668\n",
      "Standard deviation of scaled difference for Axis 2 = 0.001042925767129162\n",
      "Maximum of scaled difference for Axis 2 = 0.003810255156690756\n",
      "Standard deviation of scaled difference for Axis 3 = 0.008212652505215173\n",
      "Maximum of scaled difference for Axis 3 = 0.027701081036042186\n",
      "Standard deviation of scaled difference for Axis 4 = 0.017557428292927245\n",
      "Maximum of scaled difference for Axis 4 = 0.047272514528236\n",
      "Standard deviation of scaled difference for Axis 5 = 0.007386946580121634\n",
      "Maximum of scaled difference for Axis 5 = 0.021551784076331404\n",
      "Standard deviation of scaled difference for Axis 6 = 0.04066989668766503\n",
      "Maximum of scaled difference for Axis 6 = 0.12425343989500148\n"
     ]
    }
   ],
   "source": [
    "#Standard Deviation of PTP with isolated axis with 10% velocity\n",
    "\n",
    "li_Sim = []\n",
    "li_Real =[]\n",
    "if (len(fileNames_Sim)==len(fileNames_Real)):\n",
    "    for i in range (len(fileNames_Sim)):\n",
    "\n",
    "        # Read csv\n",
    "        df_Sim = pd.read_csv(fileNames_Sim[i], delimiter=';', encoding='cp1252')\n",
    "        df_Real = pd.read_csv(fileNames_Real[i], delimiter=';', encoding='cp1252')\n",
    "        li_Sim.append(df_Sim)\n",
    "        li_Real.append(df_Real)\n",
    "\n",
    "        # Scaling\n",
    "        scalar = MinMaxScaler()\n",
    "        scaled_Sim = scalar.fit_transform(li_Sim[i])\n",
    "        scaled_Real = scalar.fit_transform(li_Real[i])\n",
    "        scaled_Sim_df = pd.DataFrame(scaled_Sim, columns=li_Sim[i].columns)\n",
    "        scaled_Real_df = pd.DataFrame(scaled_Real, columns=li_Real[i].columns)\n",
    "\n",
    "        #Calculate standard deviation and the Maximum difference\n",
    "        pos_col = scaled_Sim_df.columns[i+7]\n",
    "        diff = np.array([abs(scaled_Real_df[pos_col] - scaled_Sim_df[pos_col])])\n",
    "        std = np.nanstd(diff)\n",
    "        max = np.nanmax(diff)\n",
    "        print('Standard deviation of scaled difference for Axis ' + str(i+1) + ' = ' + str(std))\n",
    "        print('Maximum of scaled difference for Axis ' + str(i+1) + ' = ' + str(max))\n",
    "        \n",
    "        # Write to excel\n",
    "        ws.cell(column=i+2, row=1, value='Axis'+str(i+1))\n",
    "        ws.cell(column=i+2, row=3, value=std)\n",
    "        ws.cell(column=i+2, row=4, value=max)\n",
    "\n",
    "#Save the Workbook\n",
    "wb.save(filename='Standard_Deviation and Max.xlsx')"
   ]
  }
 ],
 "metadata": {
  "interpreter": {
   "hash": "99674ea3e0e886a70bb79bc3b0b36142b5b25a2e95824ec71064eb365bd353b2"
  },
  "kernelspec": {
   "display_name": "Python 3.9.7 64-bit ('base': conda)",
   "language": "python",
   "name": "python3"
  },
  "language_info": {
   "codemirror_mode": {
    "name": "ipython",
    "version": 3
   },
   "file_extension": ".py",
   "mimetype": "text/x-python",
   "name": "python",
   "nbconvert_exporter": "python",
   "pygments_lexer": "ipython3",
   "version": "3.9.7"
  },
  "orig_nbformat": 4
 },
 "nbformat": 4,
 "nbformat_minor": 2
}
