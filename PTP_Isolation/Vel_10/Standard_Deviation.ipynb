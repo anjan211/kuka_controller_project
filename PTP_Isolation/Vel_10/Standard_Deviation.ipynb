{
 "cells": [
  {
   "cell_type": "code",
   "execution_count": 17,
   "metadata": {},
   "outputs": [],
   "source": [
    "import os\n",
    "import pandas as pd\n",
    "from xlwt import Workbook"
   ]
  },
  {
   "cell_type": "code",
   "execution_count": 18,
   "metadata": {},
   "outputs": [],
   "source": [
    "wb = Workbook()\n",
    "sheet1 = wb.add_sheet('Standard Deviation')\n",
    "sheet1.write(0, 0, 'SIMULATION')\n",
    "sheet1.write(0, 1, 'REAL')"
   ]
  },
  {
   "cell_type": "code",
   "execution_count": 19,
   "metadata": {},
   "outputs": [],
   "source": [
    "# Fetch all files\n",
    "PATH = './'\n",
    "fileNames = os.listdir(PATH)\n",
    "fileNames_Sim = [file for file in fileNames if '.csv' and 'KukaOL' in file]\n",
    "fileNames_Real = [file for file in fileNames if '.csv' and 'WINDOWS' in file]"
   ]
  },
  {
   "cell_type": "code",
   "execution_count": 20,
   "metadata": {},
   "outputs": [],
   "source": [
    "li_Sim = []\n",
    "li_Real =[]\n",
    "if (len(fileNames_Sim)==len(fileNames_Real)):\n",
    "    for i in range (len(fileNames_Sim)):\n",
    "        df_Sim = pd.read_csv(fileNames_Sim[i], delimiter=';', encoding='cp1252')\n",
    "        df_Real = pd.read_csv(fileNames_Real[i], delimiter=';', encoding='cp1252')\n",
    "        li_Sim.append(df_Sim)\n",
    "        li_Real.append(df_Real)\n",
    "\n",
    "        col = li_Sim[i].columns[i+7]\n",
    "        std_Sim = li_Sim[i][col].std()\n",
    "        std_Real = li_Real[i][col].std()\n",
    "\n",
    "        sheet1.write(i+1, 0, std_Sim)\n",
    "        sheet1.write(i+1, 1, std_Real)\n",
    "\n",
    "wb.save('Standard_Deviation.xlsx')\n",
    "        "
   ]
  }
 ],
 "metadata": {
  "interpreter": {
   "hash": "99674ea3e0e886a70bb79bc3b0b36142b5b25a2e95824ec71064eb365bd353b2"
  },
  "kernelspec": {
   "display_name": "Python 3.9.7 64-bit ('base': conda)",
   "language": "python",
   "name": "python3"
  },
  "language_info": {
   "codemirror_mode": {
    "name": "ipython",
    "version": 3
   },
   "file_extension": ".py",
   "mimetype": "text/x-python",
   "name": "python",
   "nbconvert_exporter": "python",
   "pygments_lexer": "ipython3",
   "version": "3.9.7"
  },
  "orig_nbformat": 4
 },
 "nbformat": 4,
 "nbformat_minor": 2
}
