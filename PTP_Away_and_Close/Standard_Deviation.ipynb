{
 "cells": [
  {
   "cell_type": "code",
   "execution_count": 6,
   "metadata": {},
   "outputs": [],
   "source": [
    "import os\n",
    "import pandas as pd\n",
    "import numpy as np\n",
    "from sklearn.preprocessing import MinMaxScaler\n",
    "from openpyxl import Workbook"
   ]
  },
  {
   "cell_type": "markdown",
   "metadata": {},
   "source": [
    "Initialize a workbook"
   ]
  },
  {
   "cell_type": "code",
   "execution_count": 7,
   "metadata": {},
   "outputs": [
    {
     "data": {
      "text/plain": [
       "<Cell 'Sheet'.A4>"
      ]
     },
     "execution_count": 7,
     "metadata": {},
     "output_type": "execute_result"
    }
   ],
   "source": [
    "wb = Workbook()\n",
    "ws = wb.active\n",
    "ws.cell(column=1, row=3, value='Standard Deviation')\n",
    "ws.cell(column=1, row=4, value='Maximum')\n"
   ]
  },
  {
   "cell_type": "markdown",
   "metadata": {},
   "source": [
    "Fetching all the trace files and storing them in four variables. Two Variables include trace files of Simulation for PTP Away (extended arm) and PTP Close, while the other two variables include trace files of Real robot."
   ]
  },
  {
   "cell_type": "code",
   "execution_count": 8,
   "metadata": {},
   "outputs": [],
   "source": [
    "# Fetch all files\n",
    "PATH = './'\n",
    "fileNames = os.listdir(PATH)\n",
    "fileNames_Sim1 = [file for file in fileNames if '.csv' and 'KRCIpo' in file]\n",
    "fileNames_Real1 = [file for file in fileNames if '.csv' and 'KRCIpo' in file]\n",
    "\n",
    "fileNames_Sim = [file for file in fileNames_Sim1 if 'KukaOL' in file]\n",
    "fileNames_Real = [file for file in fileNames_Real1 if 'WINDOWS' in file]\n",
    "\n",
    "fileNames_Away_Sim = [file for file in fileNames_Sim if '_away_10_' in file]\n",
    "fileNames_Close_Sim = [file for file in fileNames_Sim if '_close_10_' in file]\n",
    "\n",
    "fileNames_Away_Real = [file for file in fileNames_Real if '_away_10_' in file]\n",
    "fileNames_Close_Real = [file for file in fileNames_Real if '_close_10_' in file]"
   ]
  },
  {
   "cell_type": "markdown",
   "metadata": {},
   "source": [
    "Standard Deviation between real robot and simulation for PTP Away (extended arm)"
   ]
  },
  {
   "cell_type": "code",
   "execution_count": 9,
   "metadata": {},
   "outputs": [
    {
     "name": "stdout",
     "output_type": "stream",
     "text": [
      "Standard deviation of scaled difference for Axis 1 = 0.005919320605711684\n",
      "Maximum of scaled difference for Axis 1 = 0.025801975661660426\n",
      "Standard deviation of scaled difference for Axis 2 = 0.01227415759132908\n",
      "Maximum of scaled difference for Axis 2 = 0.0410922908302932\n",
      "Standard deviation of scaled difference for Axis 3 = 0.0023081278003510724\n",
      "Maximum of scaled difference for Axis 3 = 0.010012212308475932\n"
     ]
    }
   ],
   "source": [
    "#Standard Deviation of PTP Away\n",
    "\n",
    "li_Sim = []\n",
    "li_Real =[]\n",
    "wb = Workbook()\n",
    "\n",
    "#Get currently active sheet and name it as 'PTP Away'\n",
    "ws = wb.active\n",
    "ws.title = \"PTP Away\"\n",
    "ws.cell(column=1, row=3, value='Standard Deviation')\n",
    "ws.cell(column=1, row=4, value='Maximum')\n",
    "if (len(fileNames_Away_Sim)==len(fileNames_Away_Real)):\n",
    "    for i in range (len(fileNames_Away_Real)):\n",
    "\n",
    "        # Read csv\n",
    "        df_Sim = pd.read_csv(fileNames_Away_Sim[i], delimiter=';', encoding='cp1252')\n",
    "        df_Real = pd.read_csv(fileNames_Away_Real[i], delimiter=';', encoding='cp1252')\n",
    "        li_Sim.append(df_Sim)\n",
    "        li_Real.append(df_Real)\n",
    "\n",
    "        # Scaling\n",
    "        scalar = MinMaxScaler()\n",
    "        scaled_Sim = scalar.fit_transform(li_Sim[i])\n",
    "        scaled_Real = scalar.fit_transform(li_Real[i])\n",
    "        scaled_Sim_df = pd.DataFrame(scaled_Sim, columns=li_Sim[i].columns)\n",
    "        scaled_Real_df = pd.DataFrame(scaled_Real, columns=li_Real[i].columns)\n",
    "\n",
    "        #Calculate standard deviation and the Maximum difference\n",
    "        pos_col = scaled_Sim_df.columns[i+7]\n",
    "        diff = np.array([abs(scaled_Real_df[pos_col] - scaled_Sim_df[pos_col])])\n",
    "        std = np.nanstd(diff)\n",
    "        max = np.nanmax(diff)\n",
    "        print('Standard deviation of scaled difference for Axis ' + str(i+1) + ' = ' + str(std))\n",
    "        print('Maximum of scaled difference for Axis ' + str(i+1) + ' = ' + str(max))\n",
    "        \n",
    "        # Write to excel\n",
    "        ws.cell(column=i+2, row=1, value='Axis'+str(i+1))\n",
    "        ws.cell(column=i+2, row=3, value=std)\n",
    "        ws.cell(column=i+2, row=4, value=max)\n"
   ]
  },
  {
   "cell_type": "markdown",
   "metadata": {},
   "source": [
    "Standard Deviation between real robot and simulation for PTP Close"
   ]
  },
  {
   "cell_type": "code",
   "execution_count": 10,
   "metadata": {},
   "outputs": [
    {
     "name": "stdout",
     "output_type": "stream",
     "text": [
      "Standard deviation of scaled difference for Axis 1 = 0.0008664405025898195\n",
      "Maximum of scaled difference for Axis 1 = 0.0037148712769330405\n",
      "Standard deviation of scaled difference for Axis 2 = 0.0007782440124296145\n",
      "Maximum of scaled difference for Axis 2 = 0.002422317488013803\n",
      "Standard deviation of scaled difference for Axis 3 = 0.002557486753002336\n",
      "Maximum of scaled difference for Axis 3 = 0.01084712176318825\n"
     ]
    }
   ],
   "source": [
    "#Standard Deviation of PTP Close\n",
    "\n",
    "li_Sim = []\n",
    "li_Real =[]\n",
    "\n",
    "#Create a new sheet named 'PTP Close'\n",
    "ws = wb.create_sheet(\"PTP Close\")\n",
    "ws.cell(column=1, row=3, value='Standard Deviation')\n",
    "ws.cell(column=1, row=4, value='Maximum')\n",
    "if (len(fileNames_Close_Sim)==len(fileNames_Close_Real)):\n",
    "    for i in range (len(fileNames_Close_Real)):\n",
    "\n",
    "        # Read csv\n",
    "        df_Sim = pd.read_csv(fileNames_Close_Sim[i], delimiter=';', encoding='cp1252')\n",
    "        df_Real = pd.read_csv(fileNames_Close_Real[i], delimiter=';', encoding='cp1252')\n",
    "        li_Sim.append(df_Sim)\n",
    "        li_Real.append(df_Real)\n",
    "\n",
    "        # Scaling\n",
    "        scalar = MinMaxScaler()\n",
    "        scaled_Sim = scalar.fit_transform(li_Sim[i])\n",
    "        scaled_Real = scalar.fit_transform(li_Real[i])\n",
    "        scaled_Sim_df = pd.DataFrame(scaled_Sim, columns=li_Sim[i].columns)\n",
    "        scaled_Real_df = pd.DataFrame(scaled_Real, columns=li_Real[i].columns)\n",
    "\n",
    "        #Calculate standard deviation and the Maximum difference\n",
    "        pos_col = scaled_Sim_df.columns[i+7]\n",
    "        diff = np.array([abs(scaled_Real_df[pos_col] - scaled_Sim_df[pos_col])])\n",
    "        std = np.nanstd(diff)\n",
    "        max = np.nanmax(diff)\n",
    "        print('Standard deviation of scaled difference for Axis ' + str(i+1) + ' = ' + str(std))\n",
    "        print('Maximum of scaled difference for Axis ' + str(i+1) + ' = ' + str(max))\n",
    "        \n",
    "        # Write to excel\n",
    "        ws.cell(column=i+2, row=1, value='Axis'+str(i+1))\n",
    "        ws.cell(column=i+2, row=3, value=std)\n",
    "        ws.cell(column=i+2, row=4, value=max)\n",
    "\n",
    "#Save the Workbook\n",
    "wb.save(filename='Standard_Deviation and Max.xlsx')    "
   ]
  }
 ],
 "metadata": {
  "interpreter": {
   "hash": "07efdcd4b820c98a756949507a4d29d7862823915ec7477944641bea022f4f62"
  },
  "kernelspec": {
   "display_name": "Python 3.8.5 64-bit (conda)",
   "name": "python3"
  },
  "language_info": {
   "codemirror_mode": {
    "name": "ipython",
    "version": 3
   },
   "file_extension": ".py",
   "mimetype": "text/x-python",
   "name": "python",
   "nbconvert_exporter": "python",
   "pygments_lexer": "ipython3",
   "version": "3.8.5"
  },
  "orig_nbformat": 4
 },
 "nbformat": 4,
 "nbformat_minor": 2
}
