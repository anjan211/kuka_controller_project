{
 "cells": [
  {
   "cell_type": "code",
   "execution_count": 38,
   "metadata": {},
   "outputs": [],
   "source": [
    "import os\n",
    "import pandas as pd\n",
    "import numpy as np\n",
    "from sklearn.preprocessing import MinMaxScaler\n",
    "from openpyxl import Workbook"
   ]
  },
  {
   "cell_type": "code",
   "execution_count": 39,
   "metadata": {},
   "outputs": [
    {
     "data": {
      "text/plain": [
       "<Cell 'Sheet'.A4>"
      ]
     },
     "execution_count": 39,
     "metadata": {},
     "output_type": "execute_result"
    }
   ],
   "source": [
    "wb = Workbook()\n",
    "ws = wb.active\n",
    "ws.cell(column=1, row=3, value='Standard Deviation')\n",
    "ws.cell(column=1, row=4, value='Maximum')\n"
   ]
  },
  {
   "cell_type": "code",
   "execution_count": 40,
   "metadata": {},
   "outputs": [],
   "source": [
    "# Fetch all files\n",
    "PATH = './'\n",
    "fileNames = os.listdir(PATH)\n",
    "fileNames_Sim = [file for file in fileNames if '.csv' and 'KukaOL' in file]\n",
    "fileNames_Real = [file for file in fileNames if '.csv' and 'WINDOWS' in file]\n",
    "\n",
    "fileNames_Backlash_Sim = [file for file in fileNames_Sim if '_PTP_BCKLSHaut' in file]\n",
    "fileNames_Comparator_Sim = [file for file in fileNames_Sim if '_PTP_aut' in file]\n",
    "\n",
    "fileNames_Backlash_Real = [file for file in fileNames_Real if '_PTP_BCKLSHaut' in file]\n",
    "fileNames_Comparator_Real = [file for file in fileNames_Real if '_PTP_aut' in file]"
   ]
  },
  {
   "cell_type": "code",
   "execution_count": 41,
   "metadata": {},
   "outputs": [
    {
     "name": "stdout",
     "output_type": "stream",
     "text": [
      "Standard deviation of scaled difference for Axis 1 = 0.03430793365710923\n",
      "Maximum of scaled difference for Axis 1 = 0.11293054272015474\n",
      "Standard deviation of scaled difference for Axis 2 = 0.05386605188650289\n",
      "Maximum of scaled difference for Axis 2 = 0.17230870341441795\n",
      "Standard deviation of scaled difference for Axis 3 = 0.0495330474707174\n",
      "Maximum of scaled difference for Axis 3 = 0.15069098055550278\n",
      "Standard deviation of scaled difference for Axis 4 = 0.06207292172741727\n",
      "Maximum of scaled difference for Axis 4 = 0.1894539524460549\n",
      "Standard deviation of scaled difference for Axis 5 = 0.10034737364513588\n",
      "Maximum of scaled difference for Axis 5 = 0.3357954121730702\n",
      "Standard deviation of scaled difference for Axis 6 = 0.11554135924100627\n",
      "Maximum of scaled difference for Axis 6 = 0.39315878188705944\n"
     ]
    }
   ],
   "source": [
    "#Standard Deviation of Backlash\n",
    "\n",
    "li_Sim = []\n",
    "li_Real =[]\n",
    "wb = Workbook()\n",
    "ws = wb.active\n",
    "ws.title = \"Backlash\"\n",
    "ws.cell(column=1, row=3, value='Standard Deviation')\n",
    "ws.cell(column=1, row=4, value='Maximum')\n",
    "if (len(fileNames_Backlash_Sim)==len(fileNames_Backlash_Real)):\n",
    "    for i in range (len(fileNames_Backlash_Real)):\n",
    "\n",
    "        # Read csv\n",
    "        df_Sim = pd.read_csv(fileNames_Backlash_Sim[i], delimiter=';', encoding='cp1252')\n",
    "        df_Real = pd.read_csv(fileNames_Backlash_Real[i], delimiter=';', encoding='cp1252')\n",
    "        li_Sim.append(df_Sim)\n",
    "        li_Real.append(df_Real)\n",
    "\n",
    "        # Scaling\n",
    "        scalar = MinMaxScaler()\n",
    "        scaled_Sim = scalar.fit_transform(li_Sim[i])\n",
    "        scaled_Real = scalar.fit_transform(li_Real[i])\n",
    "        scaled_Sim_df = pd.DataFrame(scaled_Sim, columns=li_Sim[i].columns)\n",
    "        scaled_Real_df = pd.DataFrame(scaled_Real, columns=li_Real[i].columns)\n",
    "\n",
    "        pos_col = scaled_Sim_df.columns[i+7]\n",
    "        diff = np.array([abs(scaled_Real_df[pos_col] - scaled_Sim_df[pos_col])])\n",
    "        # non_nan_diff = diff[np.isfinite(diff)]\n",
    "        # print(non_nan_diff)\n",
    "        std = np.nanstd(diff)\n",
    "        max = np.nanmax(diff)\n",
    "        print('Standard deviation of scaled difference for Axis ' + str(i+1) + ' = ' + str(std))\n",
    "        print('Maximum of scaled difference for Axis ' + str(i+1) + ' = ' + str(max))\n",
    "        \n",
    "        # Write to excel\n",
    "        ws.cell(column=i+2, row=1, value='Axis'+str(i+1))\n",
    "        ws.cell(column=i+2, row=3, value=std)\n",
    "        ws.cell(column=i+2, row=4, value=max)\n"
   ]
  },
  {
   "cell_type": "code",
   "execution_count": 42,
   "metadata": {},
   "outputs": [
    {
     "name": "stdout",
     "output_type": "stream",
     "text": [
      "Standard deviation of scaled difference for Axis 1 = 0.03203102076516799\n",
      "Maximum of scaled difference for Axis 1 = 0.11873366222200729\n",
      "Standard deviation of scaled difference for Axis 2 = 0.014895419291991853\n",
      "Maximum of scaled difference for Axis 2 = 0.05951427776167928\n",
      "Standard deviation of scaled difference for Axis 3 = 0.04664201574258632\n",
      "Maximum of scaled difference for Axis 3 = 0.16013627487259452\n",
      "Standard deviation of scaled difference for Axis 4 = 0.10309564207441943\n",
      "Maximum of scaled difference for Axis 4 = 0.2930437467038274\n",
      "Standard deviation of scaled difference for Axis 5 = 0.1336075426996893\n",
      "Maximum of scaled difference for Axis 5 = 0.43052576785861696\n",
      "Standard deviation of scaled difference for Axis 6 = 0.22130685185406923\n",
      "Maximum of scaled difference for Axis 6 = 0.7361909056470273\n"
     ]
    }
   ],
   "source": [
    "#Standard Deviation of Comparator\n",
    "\n",
    "li_Sim = []\n",
    "li_Real =[]\n",
    "\n",
    "ws = wb.create_sheet(\"Comparator\")\n",
    "ws.cell(column=1, row=3, value='Standard Deviation')\n",
    "ws.cell(column=1, row=4, value='Maximum')\n",
    "if (len(fileNames_Backlash_Sim)==len(fileNames_Backlash_Real)):\n",
    "    for i in range (len(fileNames_Backlash_Real)):\n",
    "\n",
    "        # Read csv\n",
    "        df_Sim = pd.read_csv(fileNames_Comparator_Sim[i], delimiter=';', encoding='cp1252')\n",
    "        df_Real = pd.read_csv(fileNames_Comparator_Real[i], delimiter=';', encoding='cp1252')\n",
    "        li_Sim.append(df_Sim)\n",
    "        li_Real.append(df_Real)\n",
    "\n",
    "        # Scaling\n",
    "        scalar = MinMaxScaler()\n",
    "        scaled_Sim = scalar.fit_transform(li_Sim[i])\n",
    "        scaled_Real = scalar.fit_transform(li_Real[i])\n",
    "        scaled_Sim_df = pd.DataFrame(scaled_Sim, columns=li_Sim[i].columns)\n",
    "        scaled_Real_df = pd.DataFrame(scaled_Real, columns=li_Real[i].columns)\n",
    "\n",
    "        pos_col = scaled_Sim_df.columns[i+7]\n",
    "        diff = np.array([abs(scaled_Real_df[pos_col] - scaled_Sim_df[pos_col])])\n",
    "        # non_nan_diff = diff[np.isfinite(diff)]\n",
    "        # print(non_nan_diff)\n",
    "        std = np.nanstd(diff)\n",
    "        max = np.nanmax(diff)\n",
    "        print('Standard deviation of scaled difference for Axis ' + str(i+1) + ' = ' + str(std))\n",
    "        print('Maximum of scaled difference for Axis ' + str(i+1) + ' = ' + str(max))\n",
    "        \n",
    "        # Write to excel\n",
    "        ws.cell(column=i+2, row=1, value='Axis'+str(i+1))\n",
    "        ws.cell(column=i+2, row=3, value=std)\n",
    "        ws.cell(column=i+2, row=4, value=max)\n",
    "\n",
    "wb.save(filename='Standard_Deviation and Max.xlsx')\n",
    "\n",
    "     "
   ]
  }
 ],
 "metadata": {
  "interpreter": {
   "hash": "07efdcd4b820c98a756949507a4d29d7862823915ec7477944641bea022f4f62"
  },
  "kernelspec": {
   "display_name": "Python 3.8.5 64-bit (conda)",
   "name": "python3"
  },
  "language_info": {
   "codemirror_mode": {
    "name": "ipython",
    "version": 3
   },
   "file_extension": ".py",
   "mimetype": "text/x-python",
   "name": "python",
   "nbconvert_exporter": "python",
   "pygments_lexer": "ipython3",
   "version": "3.8.5"
  },
  "orig_nbformat": 4
 },
 "nbformat": 4,
 "nbformat_minor": 2
}
