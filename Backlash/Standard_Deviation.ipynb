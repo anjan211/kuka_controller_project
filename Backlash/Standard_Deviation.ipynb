{
 "cells": [
  {
   "cell_type": "code",
   "execution_count": 1,
   "metadata": {},
   "outputs": [],
   "source": [
    "import os\n",
    "import pandas as pd\n",
    "import numpy as np\n",
    "from sklearn.preprocessing import MinMaxScaler\n",
    "from openpyxl import Workbook"
   ]
  },
  {
   "cell_type": "markdown",
   "metadata": {},
   "source": [
    "Initialize a workbook"
   ]
  },
  {
   "cell_type": "code",
   "execution_count": 2,
   "metadata": {},
   "outputs": [
    {
     "data": {
      "text/plain": [
       "<Cell 'Sheet'.A5>"
      ]
     },
     "execution_count": 2,
     "metadata": {},
     "output_type": "execute_result"
    }
   ],
   "source": [
    "wb = Workbook()\n",
    "ws = wb.active\n",
    "ws.cell(column=1, row=3, value='Standard Deviation')\n",
    "ws.cell(column=1, row=4, value='Maximum')\n",
    "ws.cell(column=1, row=5, value='Mean')\n"
   ]
  },
  {
   "cell_type": "markdown",
   "metadata": {},
   "source": [
    "Fetching all the trace files and storing them in four variables. Two Variables include trace files of Simulation for Backlash (Forward movement) and PTP comparator (Reverse movement), while the other two variables include trace files of Real robot."
   ]
  },
  {
   "cell_type": "code",
   "execution_count": 3,
   "metadata": {},
   "outputs": [],
   "source": [
    "# Fetch all files\n",
    "PATH = './'\n",
    "fileNames = os.listdir(PATH)\n",
    "fileNames_Sim = [file for file in fileNames if '.csv' and 'KukaOL' in file]\n",
    "fileNames_Real = [file for file in fileNames if '.csv' and 'WINDOWS' in file]\n",
    "\n",
    "fileNames_Backlash_Sim = [file for file in fileNames_Sim if '_PTP_BCKLSHaut' in file]\n",
    "fileNames_Comparator_Sim = [file for file in fileNames_Sim if '_PTP_aut' in file]\n",
    "\n",
    "fileNames_Backlash_Real = [file for file in fileNames_Real if '_PTP_BCKLSHaut' in file]\n",
    "fileNames_Comparator_Real = [file for file in fileNames_Real if '_PTP_aut' in file]"
   ]
  },
  {
   "cell_type": "markdown",
   "metadata": {},
   "source": [
    "Standard Deviation between real robot and simulation for Backlash (Forward movement)"
   ]
  },
  {
   "cell_type": "code",
   "execution_count": 4,
   "metadata": {},
   "outputs": [
    {
     "name": "stdout",
     "output_type": "stream",
     "text": [
      "Standard deviation of scaled difference for Axis 1 = 0.03430793365710923\n",
      "Maximum of scaled difference for Axis 1 = 0.11293054272015474\n",
      "Mean of scaled difference for Axis 1 = 0.03952488924483842\n",
      "Standard deviation of scaled difference for Axis 2 = 0.05386605188650294\n",
      "Maximum of scaled difference for Axis 2 = 0.17230870341441795\n",
      "Mean of scaled difference for Axis 2 = 0.05470834490988615\n",
      "Standard deviation of scaled difference for Axis 3 = 0.049533047470717406\n",
      "Maximum of scaled difference for Axis 3 = 0.15069098055550278\n",
      "Mean of scaled difference for Axis 3 = 0.04926239277791285\n",
      "Standard deviation of scaled difference for Axis 4 = 0.06207292172741727\n",
      "Maximum of scaled difference for Axis 4 = 0.1894539524460549\n",
      "Mean of scaled difference for Axis 4 = 0.08455805712333893\n",
      "Standard deviation of scaled difference for Axis 5 = 0.10034737364513588\n",
      "Maximum of scaled difference for Axis 5 = 0.3357954121730702\n",
      "Mean of scaled difference for Axis 5 = 0.12196119176468098\n",
      "Standard deviation of scaled difference for Axis 6 = 0.11554135924100627\n",
      "Maximum of scaled difference for Axis 6 = 0.39315878188705944\n",
      "Mean of scaled difference for Axis 6 = 0.14712184615430543\n"
     ]
    }
   ],
   "source": [
    "#Standard Deviation of Backlash\n",
    "\n",
    "li_Sim = []\n",
    "li_Real =[]\n",
    "wb = Workbook()\n",
    "\n",
    "#Get currently active sheet and name it as 'Backlash'\n",
    "ws = wb.active\n",
    "ws.title = \"Backlash\"\n",
    "ws.cell(column=1, row=3, value='Standard Deviation')\n",
    "ws.cell(column=1, row=4, value='Maximum')\n",
    "ws.cell(column=1, row=5, value='Mean')\n",
    "if (len(fileNames_Backlash_Sim)==len(fileNames_Backlash_Real)):\n",
    "    for i in range (len(fileNames_Backlash_Real)):\n",
    "\n",
    "        # Read csv\n",
    "        df_Sim = pd.read_csv(fileNames_Backlash_Sim[i], delimiter=';', encoding='cp1252')\n",
    "        df_Real = pd.read_csv(fileNames_Backlash_Real[i], delimiter=';', encoding='cp1252')\n",
    "        li_Sim.append(df_Sim)\n",
    "        li_Real.append(df_Real)\n",
    "\n",
    "        # Scaling\n",
    "        scalar = MinMaxScaler()\n",
    "        scaled_Sim = scalar.fit_transform(li_Sim[i])\n",
    "        scaled_Real = scalar.fit_transform(li_Real[i])\n",
    "        scaled_Sim_df = pd.DataFrame(scaled_Sim, columns=li_Sim[i].columns)\n",
    "        scaled_Real_df = pd.DataFrame(scaled_Real, columns=li_Real[i].columns)\n",
    "\n",
    "        #Calculate standard deviation and the Maximum difference\n",
    "        pos_col = scaled_Sim_df.columns[i+7]\n",
    "        diff = np.array([abs(scaled_Real_df[pos_col] - scaled_Sim_df[pos_col])])\n",
    "        std = np.nanstd(diff)\n",
    "        max = np.nanmax(diff)\n",
    "        mean = np.nanmean(diff)\n",
    "        print('Standard deviation of scaled difference for Axis ' + str(i+1) + ' = ' + str(std))\n",
    "        print('Maximum of scaled difference for Axis ' + str(i+1) + ' = ' + str(max))\n",
    "        print('Mean of scaled difference for Axis ' + str(i+1) + ' = ' + str(mean))\n",
    "\n",
    "        # Write to excel\n",
    "        ws.cell(column=i+2, row=1, value='Axis'+str(i+1))\n",
    "        ws.cell(column=i+2, row=3, value=std)\n",
    "        ws.cell(column=i+2, row=4, value=max)\n",
    "        ws.cell(column=i+2, row=5, value=mean)\n"
   ]
  },
  {
   "cell_type": "markdown",
   "metadata": {},
   "source": [
    "Standard Deviation between real robot and simulation for Comparator (Reverse movement)"
   ]
  },
  {
   "cell_type": "code",
   "execution_count": 5,
   "metadata": {},
   "outputs": [
    {
     "name": "stdout",
     "output_type": "stream",
     "text": [
      "Standard deviation of scaled difference for Axis 1 = 0.032031020765167985\n",
      "Maximum of scaled difference for Axis 1 = 0.11873366222200726\n",
      "Mean of scaled difference for Axis 1 = 0.0330207805596446\n",
      "Standard deviation of scaled difference for Axis 2 = 0.014895419291991858\n",
      "Maximum of scaled difference for Axis 2 = 0.05951427776167928\n",
      "Mean of scaled difference for Axis 2 = 0.008089330440325988\n",
      "Standard deviation of scaled difference for Axis 3 = 0.046642015742586314\n",
      "Maximum of scaled difference for Axis 3 = 0.16013627487259452\n",
      "Mean of scaled difference for Axis 3 = 0.038721058684113484\n",
      "Standard deviation of scaled difference for Axis 4 = 0.10309564207441943\n",
      "Maximum of scaled difference for Axis 4 = 0.2930437467038274\n",
      "Mean of scaled difference for Axis 4 = 0.11332797624999796\n",
      "Standard deviation of scaled difference for Axis 5 = 0.1336075426996893\n",
      "Maximum of scaled difference for Axis 5 = 0.43052576785861696\n",
      "Mean of scaled difference for Axis 5 = 0.1189783104330114\n",
      "Standard deviation of scaled difference for Axis 6 = 0.22130685185406923\n",
      "Maximum of scaled difference for Axis 6 = 0.7361909056470273\n",
      "Mean of scaled difference for Axis 6 = 0.2668262757533513\n"
     ]
    }
   ],
   "source": [
    "#Standard Deviation of Comparator\n",
    "\n",
    "li_Sim = []\n",
    "li_Real =[]\n",
    "\n",
    "#Create a new sheet named 'Comparator'\n",
    "ws = wb.create_sheet(\"Comparator\")\n",
    "ws.cell(column=1, row=3, value='Standard Deviation')\n",
    "ws.cell(column=1, row=4, value='Maximum')\n",
    "ws.cell(column=1, row=5, value='Mean')\n",
    "if (len(fileNames_Backlash_Sim)==len(fileNames_Backlash_Real)):\n",
    "    for i in range (len(fileNames_Backlash_Real)):\n",
    "\n",
    "        # Read csv\n",
    "        df_Sim = pd.read_csv(fileNames_Comparator_Sim[i], delimiter=';', encoding='cp1252')\n",
    "        df_Real = pd.read_csv(fileNames_Comparator_Real[i], delimiter=';', encoding='cp1252')\n",
    "        li_Sim.append(df_Sim)\n",
    "        li_Real.append(df_Real)\n",
    "\n",
    "        # Scaling\n",
    "        scalar = MinMaxScaler()\n",
    "        scaled_Sim = scalar.fit_transform(li_Sim[i])\n",
    "        scaled_Real = scalar.fit_transform(li_Real[i])\n",
    "        scaled_Sim_df = pd.DataFrame(scaled_Sim, columns=li_Sim[i].columns)\n",
    "        scaled_Real_df = pd.DataFrame(scaled_Real, columns=li_Real[i].columns)\n",
    "\n",
    "        #Calculate standard deviation and the Maximum difference\n",
    "        pos_col = scaled_Sim_df.columns[i+7]\n",
    "        diff = np.array([abs(scaled_Real_df[pos_col] - scaled_Sim_df[pos_col])])\n",
    "        std = np.nanstd(diff)\n",
    "        max = np.nanmax(diff)\n",
    "        mean = np.nanmean(diff)\n",
    "        print('Standard deviation of scaled difference for Axis ' + str(i+1) + ' = ' + str(std))\n",
    "        print('Maximum of scaled difference for Axis ' + str(i+1) + ' = ' + str(max))\n",
    "        print('Mean of scaled difference for Axis ' + str(i+1) + ' = ' + str(mean))\n",
    "\n",
    "        # Write to excel\n",
    "        ws.cell(column=i+2, row=1, value='Axis'+str(i+1))\n",
    "        ws.cell(column=i+2, row=3, value=std)\n",
    "        ws.cell(column=i+2, row=4, value=max)\n",
    "        ws.cell(column=i+2, row=5, value=mean)\n",
    "\n",
    "#Save the workbook \n",
    "wb.save(filename='Standard_Deviation and Max.xlsx')   "
   ]
  }
 ],
 "metadata": {
  "interpreter": {
   "hash": "07efdcd4b820c98a756949507a4d29d7862823915ec7477944641bea022f4f62"
  },
  "kernelspec": {
   "display_name": "Python 3.8.5 64-bit (conda)",
   "name": "python3"
  },
  "language_info": {
   "codemirror_mode": {
    "name": "ipython",
    "version": 3
   },
   "file_extension": ".py",
   "mimetype": "text/x-python",
   "name": "python",
   "nbconvert_exporter": "python",
   "pygments_lexer": "ipython3",
   "version": "3.8.5"
  },
  "orig_nbformat": 4
 },
 "nbformat": 4,
 "nbformat_minor": 2
}
