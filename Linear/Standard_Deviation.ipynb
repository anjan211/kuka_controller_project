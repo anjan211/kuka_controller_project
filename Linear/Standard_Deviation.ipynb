{
 "cells": [
  {
   "cell_type": "code",
   "execution_count": 1,
   "metadata": {},
   "outputs": [],
   "source": [
    "import os\n",
    "import pandas as pd\n",
    "import numpy as np\n",
    "from sklearn.preprocessing import MinMaxScaler\n",
    "from openpyxl import Workbook"
   ]
  },
  {
   "cell_type": "markdown",
   "metadata": {},
   "source": [
    "Initialize a workbook"
   ]
  },
  {
   "cell_type": "code",
   "execution_count": 2,
   "metadata": {},
   "outputs": [
    {
     "data": {
      "text/plain": [
       "<Cell 'Sheet'.A4>"
      ]
     },
     "execution_count": 2,
     "metadata": {},
     "output_type": "execute_result"
    }
   ],
   "source": [
    "wb = Workbook()\n",
    "ws = wb.active\n",
    "ws.cell(column=1, row=3, value='Standard Deviation')\n",
    "ws.cell(column=1, row=4, value='Maximum')\n"
   ]
  },
  {
   "cell_type": "markdown",
   "metadata": {},
   "source": [
    "Fetching all the trace files and storing them in two variables. One of them includes trace files of Simulation for Circular movement, while the other variable includes trace files of Real robot."
   ]
  },
  {
   "cell_type": "code",
   "execution_count": 3,
   "metadata": {},
   "outputs": [],
   "source": [
    "# Fetch all files\n",
    "PATH = './'\n",
    "fileNames = os.listdir(PATH)\n",
    "fileNames_Sim = [file for file in fileNames if '.csv' and 'KukaOL' in file]\n",
    "fileNames_Real = [file for file in fileNames if '.csv' and 'WINDOWS' in file]\n",
    "\n",
    "Linear_vert_Real = [file for file in fileNames_Real if 'vertical' in file]\n",
    "Linear_vert_Sim = [file for file in fileNames_Sim if 'vertical' in file]\n",
    "\n",
    "Linear_updated_Real = [file for file in fileNames_Real if 'updated' in file]\n",
    "Linear_updated_Sim = [file for file in fileNames_Sim if 'updated' in file]\n"
   ]
  },
  {
   "cell_type": "markdown",
   "metadata": {},
   "source": [
    "Standard Deviation between real robot and simulation for Cartesian Velocity of Linear movement along the cuboid"
   ]
  },
  {
   "cell_type": "code",
   "execution_count": 4,
   "metadata": {},
   "outputs": [
    {
     "name": "stdout",
     "output_type": "stream",
     "text": [
      "Standard deviation of scaled difference for Quad 1 = 0.3136197481143909\n",
      "Maximum of scaled difference for Quad 1 = 0.9921422580253202\n",
      "Mean of scaled difference for Quad 1 = 0.4416510353234783\n",
      "Standard deviation of scaled difference for Quad 2 = 0.3516260814693335\n",
      "Maximum of scaled difference for Quad 2 = 0.999768409175526\n",
      "Mean of scaled difference for Quad 2 = 0.529979252502416\n",
      "Standard deviation of scaled difference for Quad 3 = 0.32516962144098605\n",
      "Maximum of scaled difference for Quad 3 = 0.9951598255184436\n",
      "Mean of scaled difference for Quad 3 = 0.6418049323436407\n",
      "Standard deviation of scaled difference for Quad 4 = 0.26418596209917844\n",
      "Maximum of scaled difference for Quad 4 = 0.9918503643734413\n",
      "Mean of scaled difference for Quad 4 = 0.8334310143006941\n"
     ]
    }
   ],
   "source": [
    "#Standard Deviation of Cartesian Velocity - Linear Cube\n",
    "\n",
    "li_Sim = []\n",
    "li_Real =[]\n",
    "wb = Workbook()\n",
    "\n",
    "#Get currently active sheet and name it as 'Cartesian Velocity - Linear'\n",
    "ws = wb.active\n",
    "ws.title = \"Cartesian Velocity - Linear\"\n",
    "ws.cell(column=1, row=3, value='Standard Deviation')\n",
    "ws.cell(column=1, row=4, value='Maximum')\n",
    "ws.cell(column=1, row=5, value='Mean')\n",
    "if (len(fileNames_Real)==len(fileNames_Sim)):\n",
    "    # Calculate the standard deviation of cartesian velocity for only last four csv files, as the first two include traces for\n",
    "    # linear_vertical and linear_updated\n",
    "    for i in range (len(fileNames_Real)-2):\n",
    "\n",
    "        # Read csv\n",
    "        # Read only the last four csv files\n",
    "        df_Sim = pd.read_csv(fileNames_Sim[i+2], delimiter=';', encoding='cp1252')\n",
    "        df_Real = pd.read_csv(fileNames_Real[i+2], delimiter=';', encoding='cp1252')\n",
    "        li_Sim.append(df_Sim.iloc[1:,:])\n",
    "        li_Real.append(df_Real.iloc[1:,:])\n",
    "\n",
    "        # Scaling\n",
    "        scalar = MinMaxScaler()\n",
    "        scaled_Sim = scalar.fit_transform(li_Sim[i])\n",
    "        scaled_Real = scalar.fit_transform(li_Real[i])\n",
    "        scaled_Sim_df = pd.DataFrame(scaled_Sim, columns=li_Sim[i].columns)\n",
    "        scaled_Real_df = pd.DataFrame(scaled_Real, columns=li_Real[i].columns)\n",
    "\n",
    "        #Calculate standard deviation and the Maximum difference\n",
    "        pos_col = scaled_Sim_df.columns[21]\n",
    "        diff = np.array([abs(scaled_Real_df[pos_col] - scaled_Sim_df[pos_col])])\n",
    "        std = np.nanstd(diff)\n",
    "        max = np.nanmax(diff)\n",
    "        mean = np.nanmean(diff)\n",
    "        print('Standard deviation of scaled difference for Quad ' + str(i+1) + ' = ' + str(std))\n",
    "        print('Maximum of scaled difference for Quad ' + str(i+1) + ' = ' + str(max))\n",
    "        print('Mean of scaled difference for Quad ' + str(i+1) + ' = ' + str(mean))\n",
    "\n",
    "        # # Write to excel\n",
    "        ws.cell(column=i+2, row=1, value='Rectangle '+str(i+1))\n",
    "        ws.cell(column=i+2, row=3, value=std)\n",
    "        ws.cell(column=i+2, row=4, value=max)\n",
    "        ws.cell(column=i+2, row=5, value=mean)\n",
    "\n",
    "# wb.save(filename='Standard_Deviation and Max.xlsx')\n"
   ]
  },
  {
   "cell_type": "markdown",
   "metadata": {},
   "source": [
    "Standard Deviation between real robot and simulation for Cartesian Velocity of linear movement along a vertical line"
   ]
  },
  {
   "cell_type": "code",
   "execution_count": 5,
   "metadata": {},
   "outputs": [
    {
     "name": "stdout",
     "output_type": "stream",
     "text": [
      "Standard deviation of scaled difference = 0.04829447106908376\n",
      "Maximum of scaled difference = 0.36464776839892865\n",
      "Mean of scaled difference = 0.01951392687395583\n"
     ]
    }
   ],
   "source": [
    "#Standard Deviation of Cartesian Velocity - Linear Vertical\n",
    "\n",
    "li_Sim = []\n",
    "li_Real =[]\n",
    "\n",
    "#Create a new sheet named 'Vertical'\n",
    "ws = wb.create_sheet(\"Vertical\")\n",
    "ws.cell(column=1, row=3, value='Standard Deviation')\n",
    "ws.cell(column=1, row=4, value='Maximum')\n",
    "ws.cell(column=1, row=5, value='Mean')\n",
    "if (len(fileNames_Real)==len(fileNames_Sim)):\n",
    "    for i in range (len(Linear_vert_Real)):\n",
    "\n",
    "        # Read csv\n",
    "        df_Sim = pd.read_csv(Linear_vert_Sim[i], delimiter=';', encoding='cp1252')\n",
    "        df_Real = pd.read_csv(Linear_vert_Real[i], delimiter=';', encoding='cp1252')\n",
    "        li_Sim.append(df_Sim.iloc[1:,:])\n",
    "        li_Real.append(df_Real.iloc[1:,:])\n",
    "\n",
    "        # Scaling\n",
    "        scalar = MinMaxScaler()\n",
    "        scaled_Sim = scalar.fit_transform(li_Sim[i])\n",
    "        scaled_Real = scalar.fit_transform(li_Real[i])\n",
    "        scaled_Sim_df = pd.DataFrame(scaled_Sim, columns=li_Sim[i].columns)\n",
    "        scaled_Real_df = pd.DataFrame(scaled_Real, columns=li_Real[i].columns)\n",
    "\n",
    "        #Calculate standard deviation and the Maximum difference\n",
    "        pos_col = scaled_Sim_df.columns[21]\n",
    "        diff = np.array([abs(scaled_Real_df[pos_col] - scaled_Sim_df[pos_col])])\n",
    "        std = np.nanstd(diff)\n",
    "        max = np.nanmax(diff)\n",
    "        mean = np.nanmean(diff)\n",
    "        print('Standard deviation of scaled difference = ' + str(std))\n",
    "        print('Maximum of scaled difference = ' + str(max))\n",
    "        print('Mean of scaled difference = ' + str(mean))\n",
    "        \n",
    "        # # Write to excel\n",
    "        ws.cell(column=i+2, row=1, value='Vertical')\n",
    "        ws.cell(column=i+2, row=3, value=std)\n",
    "        ws.cell(column=i+2, row=4, value=max)\n",
    "        ws.cell(column=i+2, row=5, value=mean)\n",
    "\n",
    "# wb.save(filename='Standard_Deviation and Max.xlsx')\n"
   ]
  },
  {
   "cell_type": "markdown",
   "metadata": {},
   "source": [
    "Standard Deviation between real robot and simulation for Cartesian Velocity of linear movement along a diagonal line and two horizontal lines at top and bottom shaped as mirrored image of letter Z"
   ]
  },
  {
   "cell_type": "code",
   "execution_count": 6,
   "metadata": {},
   "outputs": [
    {
     "name": "stdout",
     "output_type": "stream",
     "text": [
      "Standard deviation of scaled difference = 0.16110654111092865\n",
      "Maximum of scaled difference  = 0.9999999999999999\n",
      "Mean of scaled difference = 0.1431671287973773\n"
     ]
    }
   ],
   "source": [
    "#Standard Deviation of Cartesian Velocity - Linear Updated\n",
    "\n",
    "li_Sim = []\n",
    "li_Real =[]\n",
    "\n",
    "#Create a new sheet named 'Updated_Lin'\n",
    "ws = wb.create_sheet(\"Updated Lin\")\n",
    "ws.cell(column=1, row=3, value='Standard Deviation')\n",
    "ws.cell(column=1, row=4, value='Maximum')\n",
    "ws.cell(column=1, row=5, value='Mean')\n",
    "if (len(fileNames_Real)==len(fileNames_Sim)):\n",
    "    for i in range (len(Linear_updated_Real)):\n",
    "\n",
    "        # Read csv\n",
    "        df_Sim = pd.read_csv(Linear_updated_Sim[i], delimiter=';', encoding='cp1252')\n",
    "        df_Real = pd.read_csv(Linear_updated_Real[i], delimiter=';', encoding='cp1252')\n",
    "        li_Sim.append(df_Sim.iloc[1:,:])\n",
    "        li_Real.append(df_Real.iloc[1:,:])\n",
    "\n",
    "        # Scaling\n",
    "        scalar = MinMaxScaler()\n",
    "        scaled_Sim = scalar.fit_transform(li_Sim[i])\n",
    "        scaled_Real = scalar.fit_transform(li_Real[i])\n",
    "        scaled_Sim_df = pd.DataFrame(scaled_Sim, columns=li_Sim[i].columns)\n",
    "        scaled_Real_df = pd.DataFrame(scaled_Real, columns=li_Real[i].columns)\n",
    "\n",
    "        #Calculate standard deviation and the Maximum difference\n",
    "        pos_col = scaled_Sim_df.columns[21]\n",
    "        diff = np.array([abs(scaled_Real_df[pos_col] - scaled_Sim_df[pos_col])])\n",
    "        std = np.nanstd(diff)\n",
    "        max = np.nanmax(diff)\n",
    "        mean = np.nanmean(diff)\n",
    "        print('Standard deviation of scaled difference = ' + str(std))\n",
    "        print('Maximum of scaled difference  = ' + str(max))\n",
    "        print('Mean of scaled difference = ' + str(mean))\n",
    "        \n",
    "        # # Write to excel\n",
    "        ws.cell(column=i+2, row=1, value='Updated Lin (Z)')\n",
    "        ws.cell(column=i+2, row=3, value=std)\n",
    "        ws.cell(column=i+2, row=4, value=max)\n",
    "        ws.cell(column=i+2, row=5, value=mean)\n",
    "\n",
    "#Save the Workbook\n",
    "wb.save(filename='Standard_Deviation and Max.xlsx')\n"
   ]
  },
  {
   "cell_type": "markdown",
   "metadata": {},
   "source": [
    "Standard Deviation between real robot and simulation of Robot axis for linear movement along the cuboid"
   ]
  },
  {
   "cell_type": "code",
   "execution_count": 7,
   "metadata": {},
   "outputs": [
    {
     "name": "stdout",
     "output_type": "stream",
     "text": [
      "Standard deviation of scaled difference for Axis 1 = 0.11820590355126394\n",
      "Standard deviation of scaled difference for Axis 2 = 0.13762232647217687\n",
      "Standard deviation of scaled difference for Axis 3 = 0.059561677983648635\n",
      "Standard deviation of scaled difference for Axis 4 = 0.09371153272630643\n",
      "Standard deviation of scaled difference for Axis 5 = 0.08474262395795443\n",
      "Standard deviation of scaled difference for Axis 6 = 0.06945385870491867\n",
      "Standard deviation of scaled difference for Axis 1 = 0.03136035073482118\n",
      "Standard deviation of scaled difference for Axis 2 = 0.03429929960042005\n",
      "Standard deviation of scaled difference for Axis 3 = 0.03346630074544385\n",
      "Standard deviation of scaled difference for Axis 4 = 0.026299502389075337\n",
      "Standard deviation of scaled difference for Axis 5 = 0.028205615401891957\n",
      "Standard deviation of scaled difference for Axis 6 = 0.02508514462871121\n",
      "Standard deviation of scaled difference for Axis 1 = 0.2560897945784967\n",
      "Standard deviation of scaled difference for Axis 2 = 0.19223022437048326\n",
      "Standard deviation of scaled difference for Axis 3 = 0.14536531517726411\n",
      "Standard deviation of scaled difference for Axis 4 = 0.19292235752876835\n",
      "Standard deviation of scaled difference for Axis 5 = 0.2240464861714938\n",
      "Standard deviation of scaled difference for Axis 6 = 0.2544840169573067\n",
      "Standard deviation of scaled difference for Axis 1 = 0.27702670085888487\n",
      "Standard deviation of scaled difference for Axis 2 = 0.16054409808717948\n",
      "Standard deviation of scaled difference for Axis 3 = 0.13697929595570582\n",
      "Standard deviation of scaled difference for Axis 4 = 0.20838883643024203\n",
      "Standard deviation of scaled difference for Axis 5 = 0.20684737731436126\n",
      "Standard deviation of scaled difference for Axis 6 = 0.2132499575263846\n",
      "Standard deviation of scaled difference for Axis 1 = 0.1748995270691545\n",
      "Standard deviation of scaled difference for Axis 2 = 0.08298676030387352\n",
      "Standard deviation of scaled difference for Axis 3 = 0.09247763512786311\n",
      "Standard deviation of scaled difference for Axis 4 = 0.1442451350674593\n",
      "Standard deviation of scaled difference for Axis 5 = 0.1477468036115866\n",
      "Standard deviation of scaled difference for Axis 6 = 0.11752507567823346\n",
      "Standard deviation of scaled difference for Axis 1 = 0.13963812040926527\n",
      "Standard deviation of scaled difference for Axis 2 = 0.03970428935642073\n",
      "Standard deviation of scaled difference for Axis 3 = 0.050918161805034876\n",
      "Standard deviation of scaled difference for Axis 4 = 0.19337861342692156\n",
      "Standard deviation of scaled difference for Axis 5 = 0.12494329113453172\n",
      "Standard deviation of scaled difference for Axis 6 = 0.1813139052758002\n"
     ]
    }
   ],
   "source": [
    "#Standard Deviation of robot axis - Linear\n",
    "\n",
    "li_Sim = []\n",
    "li_Real =[]\n",
    "wb = Workbook()\n",
    "#Get currently active sheet and name it as 'Linear'\n",
    "ws = wb.active\n",
    "ws.title = \"Linear\"\n",
    "\n",
    "# ws.cell(column=1, row=4, value='Maximum')\n",
    "if (len(fileNames_Real)==len(fileNames_Sim)):\n",
    "    for i in range (len(fileNames_Real)):\n",
    "\n",
    "        ws.cell(column=1, row=i+3, value='Std_dev Rect' + str(i+1))\n",
    "\n",
    "        # Read csv\n",
    "        df_Sim = pd.read_csv(fileNames_Sim[i], delimiter=';', encoding='cp1252')\n",
    "        df_Real = pd.read_csv(fileNames_Real[i], delimiter=';', encoding='cp1252')\n",
    "        li_Sim.append(df_Sim)\n",
    "        li_Real.append(df_Real)\n",
    "\n",
    "        # Scaling\n",
    "        scalar = MinMaxScaler()\n",
    "        scaled_Sim = scalar.fit_transform(li_Sim[i])\n",
    "        scaled_Real = scalar.fit_transform(li_Real[i])\n",
    "        scaled_Sim_df = pd.DataFrame(scaled_Sim, columns=li_Sim[i].columns)\n",
    "        scaled_Real_df = pd.DataFrame(scaled_Real, columns=li_Real[i].columns)\n",
    "\n",
    "        #Calculate standard deviation and the Maximum difference for each axis\n",
    "        for j in range(6):\n",
    "\n",
    "            pos_col = scaled_Sim_df.columns[j+7]\n",
    "            diff = np.array([abs(scaled_Real_df[pos_col] - scaled_Sim_df[pos_col])])\n",
    "            std = np.nanstd(diff)\n",
    "            max = np.nanmax(diff)\n",
    "            print('Standard deviation of scaled difference for Axis ' + str(j+1) + ' = ' + str(std))\n",
    "            # print('Maximum of scaled difference for Axis ' + str(i+1) + ' = ' + str(max))\n",
    "        \n",
    "            # # Write to excel\n",
    "            ws.cell(column=j+2, row=1, value='Axis '+str(j+1))\n",
    "            ws.cell(column=j+2, row=i+3, value=std)\n",
    "            # ws.cell(column=i+2, row=4, value=max)\n",
    "\n",
    "#Save the Workbook\n",
    "wb.save(filename='Standard_Deviation Lin.xlsx')\n"
   ]
  }
 ],
 "metadata": {
  "interpreter": {
   "hash": "07efdcd4b820c98a756949507a4d29d7862823915ec7477944641bea022f4f62"
  },
  "kernelspec": {
   "display_name": "Python 3.8.5 64-bit (conda)",
   "name": "python3"
  },
  "language_info": {
   "codemirror_mode": {
    "name": "ipython",
    "version": 3
   },
   "file_extension": ".py",
   "mimetype": "text/x-python",
   "name": "python",
   "nbconvert_exporter": "python",
   "pygments_lexer": "ipython3",
   "version": "3.9.7"
  },
  "orig_nbformat": 4
 },
 "nbformat": 4,
 "nbformat_minor": 2
}
