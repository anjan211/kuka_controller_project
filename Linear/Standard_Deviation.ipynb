{
 "cells": [
  {
   "cell_type": "code",
   "execution_count": 11,
   "metadata": {},
   "outputs": [],
   "source": [
    "import os\n",
    "import pandas as pd\n",
    "import numpy as np\n",
    "from sklearn.preprocessing import MinMaxScaler\n",
    "from openpyxl import Workbook"
   ]
  },
  {
   "cell_type": "code",
   "execution_count": 12,
   "metadata": {},
   "outputs": [
    {
     "data": {
      "text/plain": [
       "<Cell 'Sheet'.A4>"
      ]
     },
     "execution_count": 12,
     "metadata": {},
     "output_type": "execute_result"
    }
   ],
   "source": [
    "wb = Workbook()\n",
    "ws = wb.active\n",
    "ws.cell(column=1, row=3, value='Standard Deviation')\n",
    "ws.cell(column=1, row=4, value='Maximum')\n"
   ]
  },
  {
   "cell_type": "code",
   "execution_count": 13,
   "metadata": {},
   "outputs": [],
   "source": [
    "# Fetch all files\n",
    "PATH = './'\n",
    "fileNames = os.listdir(PATH)\n",
    "fileNames_Sim = [file for file in fileNames if '.csv' and 'KukaOL' in file]\n",
    "fileNames_Real = [file for file in fileNames if '.csv' and 'WINDOWS' in file]"
   ]
  },
  {
   "cell_type": "code",
   "execution_count": 14,
   "metadata": {},
   "outputs": [
    {
     "name": "stdout",
     "output_type": "stream",
     "text": [
      "Standard deviation of scaled difference for Quad 1 = 0.08008883986714697\n",
      "Maximum of scaled difference for Quad 1 = 0.5080253236132923\n",
      "Standard deviation of scaled difference for Quad 2 = 0.0685265997105669\n",
      "Maximum of scaled difference for Quad 2 = 0.43231107325324913\n",
      "Standard deviation of scaled difference for Quad 3 = 0.0720800271849142\n",
      "Maximum of scaled difference for Quad 3 = 0.4130668033357449\n",
      "Standard deviation of scaled difference for Quad 4 = 0.03338962121225971\n",
      "Maximum of scaled difference for Quad 4 = 0.37089046218683003\n"
     ]
    }
   ],
   "source": [
    "#Standard Deviation of Linear\n",
    "\n",
    "li_Sim = []\n",
    "li_Real =[]\n",
    "wb = Workbook()\n",
    "ws = wb.active\n",
    "ws.title = \"Backlash\"\n",
    "ws.cell(column=1, row=3, value='Standard Deviation')\n",
    "ws.cell(column=1, row=4, value='Maximum')\n",
    "if (len(fileNames_Real)==len(fileNames_Sim)):\n",
    "    for i in range (len(fileNames_Real)):\n",
    "\n",
    "        # Read csv\n",
    "        df_Sim = pd.read_csv(fileNames_Sim[i], delimiter=';', encoding='cp1252')\n",
    "        df_Real = pd.read_csv(fileNames_Real[i], delimiter=';', encoding='cp1252')\n",
    "        li_Sim.append(df_Sim.iloc[1:,:])\n",
    "        li_Real.append(df_Real.iloc[1:,:])\n",
    "\n",
    "        # Scaling\n",
    "        scalar = MinMaxScaler()\n",
    "        scaled_Sim = scalar.fit_transform(li_Sim[i])\n",
    "        scaled_Real = scalar.fit_transform(li_Real[i])\n",
    "        scaled_Sim_df = pd.DataFrame(scaled_Sim, columns=li_Sim[i].columns)\n",
    "        scaled_Real_df = pd.DataFrame(scaled_Real, columns=li_Real[i].columns)\n",
    "\n",
    "        pos_col = scaled_Sim_df.columns[21]\n",
    "        diff = np.array([abs(scaled_Real_df[pos_col] - scaled_Sim_df[pos_col])])\n",
    "        # non_nan_diff = diff[np.isfinite(diff)]\n",
    "        # print(non_nan_diff)\n",
    "        std = np.nanstd(diff)\n",
    "        max = np.nanmax(diff)\n",
    "        print('Standard deviation of scaled difference for Quad ' + str(i+1) + ' = ' + str(std))\n",
    "        print('Maximum of scaled difference for Quad ' + str(i+1) + ' = ' + str(max))\n",
    "        \n",
    "        # # Write to excel\n",
    "        ws.cell(column=i+2, row=1, value='Rectangle '+str(i+1))\n",
    "        ws.cell(column=i+2, row=3, value=std)\n",
    "        ws.cell(column=i+2, row=4, value=max)\n",
    "\n",
    "wb.save(filename='Standard_Deviation and Max.xlsx')\n"
   ]
  },
  {
   "cell_type": "code",
   "execution_count": 15,
   "metadata": {},
   "outputs": [],
   "source": [
    "# #Standard Deviation of Comparator\n",
    "\n",
    "# li_Sim = []\n",
    "# li_Real =[]\n",
    "\n",
    "# ws = wb.create_sheet(\"Comparator\")\n",
    "# ws.cell(column=1, row=3, value='Standard Deviation')\n",
    "# ws.cell(column=1, row=4, value='Maximum')\n",
    "# if (len(fileNames_Backlash_Sim)==len(fileNames_Backlash_Real)):\n",
    "#     for i in range (len(fileNames_Backlash_Real)):\n",
    "\n",
    "#         # Read csv\n",
    "#         df_Sim = pd.read_csv(fileNames_Comparator_Sim[i], delimiter=';', encoding='cp1252')\n",
    "#         df_Real = pd.read_csv(fileNames_Comparator_Real[i], delimiter=';', encoding='cp1252')\n",
    "#         li_Sim.append(df_Sim)\n",
    "#         li_Real.append(df_Real)\n",
    "\n",
    "#         # Scaling\n",
    "#         scalar = MinMaxScaler()\n",
    "#         scaled_Sim = scalar.fit_transform(li_Sim[i])\n",
    "#         scaled_Real = scalar.fit_transform(li_Real[i])\n",
    "#         scaled_Sim_df = pd.DataFrame(scaled_Sim, columns=li_Sim[i].columns)\n",
    "#         scaled_Real_df = pd.DataFrame(scaled_Real, columns=li_Real[i].columns)\n",
    "\n",
    "#         pos_col = scaled_Sim_df.columns[i+7]\n",
    "#         diff = np.array([abs(scaled_Real_df[pos_col] - scaled_Sim_df[pos_col])])\n",
    "#         # non_nan_diff = diff[np.isfinite(diff)]\n",
    "#         # print(non_nan_diff)\n",
    "#         std = np.nanstd(diff)\n",
    "#         max = np.nanmax(diff)\n",
    "#         print('Standard deviation of scaled difference for Axis ' + str(i+1) + ' = ' + str(std))\n",
    "#         print('Maximum of scaled difference for Axis ' + str(i+1) + ' = ' + str(max))\n",
    "        \n",
    "#         # Write to excel\n",
    "#         ws.cell(column=i+2, row=1, value='Axis'+str(i+1))\n",
    "#         ws.cell(column=i+2, row=3, value=std)\n",
    "#         ws.cell(column=i+2, row=4, value=max)\n",
    "\n",
    "# wb.save(filename='Standard_Deviation and Max.xlsx')\n",
    "\n",
    "     "
   ]
  }
 ],
 "metadata": {
  "interpreter": {
   "hash": "07efdcd4b820c98a756949507a4d29d7862823915ec7477944641bea022f4f62"
  },
  "kernelspec": {
   "display_name": "Python 3.8.5 64-bit (conda)",
   "name": "python3"
  },
  "language_info": {
   "codemirror_mode": {
    "name": "ipython",
    "version": 3
   },
   "file_extension": ".py",
   "mimetype": "text/x-python",
   "name": "python",
   "nbconvert_exporter": "python",
   "pygments_lexer": "ipython3",
   "version": "3.8.5"
  },
  "orig_nbformat": 4
 },
 "nbformat": 4,
 "nbformat_minor": 2
}
