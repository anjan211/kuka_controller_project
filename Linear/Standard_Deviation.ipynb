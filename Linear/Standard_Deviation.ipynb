{
 "cells": [
  {
   "cell_type": "code",
   "execution_count": 8,
   "metadata": {},
   "outputs": [],
   "source": [
    "import os\n",
    "import pandas as pd\n",
    "import numpy as np\n",
    "from sklearn.preprocessing import MinMaxScaler\n",
    "from openpyxl import Workbook"
   ]
  },
  {
   "cell_type": "markdown",
   "metadata": {},
   "source": [
    "Initialize a workbook"
   ]
  },
  {
   "cell_type": "code",
   "execution_count": 9,
   "metadata": {},
   "outputs": [
    {
     "data": {
      "text/plain": [
       "<Cell 'Sheet'.A4>"
      ]
     },
     "execution_count": 9,
     "metadata": {},
     "output_type": "execute_result"
    }
   ],
   "source": [
    "wb = Workbook()\n",
    "ws = wb.active\n",
    "ws.cell(column=1, row=3, value='Standard Deviation')\n",
    "ws.cell(column=1, row=4, value='Maximum')\n"
   ]
  },
  {
   "cell_type": "markdown",
   "metadata": {},
   "source": [
    "Fetching all the trace files and storing them in two variables. One of them includes trace files of Simulation for Circular movement, while the other variable includes trace files of Real robot."
   ]
  },
  {
   "cell_type": "code",
   "execution_count": 10,
   "metadata": {},
   "outputs": [],
   "source": [
    "# Fetch all files\n",
    "PATH = './'\n",
    "fileNames = os.listdir(PATH)\n",
    "fileNames_Sim = [file for file in fileNames if '.csv' and 'KukaOL' in file]\n",
    "fileNames_Real = [file for file in fileNames if '.csv' and 'WINDOWS' in file]\n",
    "\n",
    "Linear_vert_Real = [file for file in fileNames_Real if 'vertical' in file]\n",
    "Linear_vert_Sim = [file for file in fileNames_Sim if 'vertical' in file]\n",
    "\n",
    "Linear_updated_Real = [file for file in fileNames_Real if 'updated' in file]\n",
    "Linear_updated_Sim = [file for file in fileNames_Sim if 'updated' in file]\n"
   ]
  },
  {
   "cell_type": "markdown",
   "metadata": {},
   "source": [
    "Standard Deviation between real robot and simulation for Cartesian Velocity of Linear movement along the cuboid"
   ]
  },
  {
   "cell_type": "code",
   "execution_count": 11,
   "metadata": {},
   "outputs": [
    {
     "name": "stdout",
     "output_type": "stream",
     "text": [
      "Standard deviation of scaled difference for Quad 1 = 0.08008883986714697\n",
      "Maximum of scaled difference for Quad 1 = 0.5080253236132926\n",
      "Mean of scaled difference for Quad 1 = 0.09519282655710233\n",
      "Standard deviation of scaled difference for Quad 2 = 0.06852659971056689\n",
      "Maximum of scaled difference for Quad 2 = 0.432311073253249\n",
      "Mean of scaled difference for Quad 2 = 0.09110913624555038\n",
      "Standard deviation of scaled difference for Quad 3 = 0.07208002718491419\n",
      "Maximum of scaled difference for Quad 3 = 0.41306680333574475\n",
      "Mean of scaled difference for Quad 3 = 0.09406766988253523\n",
      "Standard deviation of scaled difference for Quad 4 = 0.03338962121225973\n",
      "Maximum of scaled difference for Quad 4 = 0.3708904621868302\n",
      "Mean of scaled difference for Quad 4 = 0.013976850285178002\n"
     ]
    }
   ],
   "source": [
    "#Standard Deviation of Cartesian Velocity - Linear Cube\n",
    "\n",
    "li_Sim = []\n",
    "li_Real =[]\n",
    "wb = Workbook()\n",
    "\n",
    "#Get currently active sheet and name it as 'Cartesian Velocity - Linear'\n",
    "ws = wb.active\n",
    "ws.title = \"Cartesian Velocity - Linear\"\n",
    "ws.cell(column=1, row=3, value='Standard Deviation')\n",
    "ws.cell(column=1, row=4, value='Maximum')\n",
    "ws.cell(column=1, row=5, value='Mean')\n",
    "if (len(fileNames_Real)==len(fileNames_Sim)):\n",
    "    # Calculate the standard deviation of cartesian velocity for only last four csv files, as the first two include traces for\n",
    "    # linear_vertical and linear_updated\n",
    "    for i in range (len(fileNames_Real)-2):\n",
    "\n",
    "        # Read csv\n",
    "        # Read only the last four csv files\n",
    "        df_Sim = pd.read_csv(fileNames_Sim[i+2], delimiter=';', encoding='cp1252')\n",
    "        df_Real = pd.read_csv(fileNames_Real[i+2], delimiter=';', encoding='cp1252')\n",
    "        li_Sim.append(df_Sim.iloc[1:,:])\n",
    "        li_Real.append(df_Real.iloc[1:,:])\n",
    "\n",
    "        # Scaling\n",
    "        scalar = MinMaxScaler()\n",
    "        scaled_Sim = scalar.fit_transform(li_Sim[i])\n",
    "        scaled_Real = scalar.fit_transform(li_Real[i])\n",
    "        scaled_Sim_df = pd.DataFrame(scaled_Sim, columns=li_Sim[i].columns)\n",
    "        scaled_Real_df = pd.DataFrame(scaled_Real, columns=li_Real[i].columns)\n",
    "\n",
    "        #Calculate standard deviation and the Maximum difference\n",
    "        pos_col = scaled_Sim_df.columns[21]\n",
    "        diff = np.array([abs(scaled_Real_df[pos_col] - scaled_Sim_df[pos_col])])\n",
    "        std = np.nanstd(diff)\n",
    "        max = np.nanmax(diff)\n",
    "        mean = np.nanmean(diff)\n",
    "        print('Standard deviation of scaled difference for Quad ' + str(i+1) + ' = ' + str(std))\n",
    "        print('Maximum of scaled difference for Quad ' + str(i+1) + ' = ' + str(max))\n",
    "        print('Mean of scaled difference for Quad ' + str(i+1) + ' = ' + str(mean))\n",
    "\n",
    "        # # Write to excel\n",
    "        ws.cell(column=i+2, row=1, value='Rectangle '+str(i+1))\n",
    "        ws.cell(column=i+2, row=3, value=std)\n",
    "        ws.cell(column=i+2, row=4, value=max)\n",
    "        ws.cell(column=i+2, row=5, value=mean)\n",
    "\n",
    "# wb.save(filename='Standard_Deviation and Max.xlsx')\n"
   ]
  },
  {
   "cell_type": "markdown",
   "metadata": {},
   "source": [
    "Standard Deviation between real robot and simulation for Cartesian Velocity of linear movement along a vertical line"
   ]
  },
  {
   "cell_type": "code",
   "execution_count": 12,
   "metadata": {},
   "outputs": [
    {
     "name": "stdout",
     "output_type": "stream",
     "text": [
      "Standard deviation of scaled difference = 0.04829447106908376\n",
      "Maximum of scaled difference = 0.36464776839892865\n",
      "Mean of scaled difference = 0.01951392687395583\n"
     ]
    }
   ],
   "source": [
    "#Standard Deviation of Cartesian Velocity - Linear Vertical\n",
    "\n",
    "li_Sim = []\n",
    "li_Real =[]\n",
    "\n",
    "#Create a new sheet named 'Vertical'\n",
    "ws = wb.create_sheet(\"Vertical\")\n",
    "ws.cell(column=1, row=3, value='Standard Deviation')\n",
    "ws.cell(column=1, row=4, value='Maximum')\n",
    "ws.cell(column=1, row=5, value='Mean')\n",
    "if (len(fileNames_Real)==len(fileNames_Sim)):\n",
    "    for i in range (len(Linear_vert_Real)):\n",
    "\n",
    "        # Read csv\n",
    "        df_Sim = pd.read_csv(Linear_vert_Sim[i], delimiter=';', encoding='cp1252')\n",
    "        df_Real = pd.read_csv(Linear_vert_Real[i], delimiter=';', encoding='cp1252')\n",
    "        li_Sim.append(df_Sim.iloc[1:,:])\n",
    "        li_Real.append(df_Real.iloc[1:,:])\n",
    "\n",
    "        # Scaling\n",
    "        scalar = MinMaxScaler()\n",
    "        scaled_Sim = scalar.fit_transform(li_Sim[i])\n",
    "        scaled_Real = scalar.fit_transform(li_Real[i])\n",
    "        scaled_Sim_df = pd.DataFrame(scaled_Sim, columns=li_Sim[i].columns)\n",
    "        scaled_Real_df = pd.DataFrame(scaled_Real, columns=li_Real[i].columns)\n",
    "\n",
    "        #Calculate standard deviation and the Maximum difference\n",
    "        pos_col = scaled_Sim_df.columns[21]\n",
    "        diff = np.array([abs(scaled_Real_df[pos_col] - scaled_Sim_df[pos_col])])\n",
    "        std = np.nanstd(diff)\n",
    "        max = np.nanmax(diff)\n",
    "        mean = np.nanmean(diff)\n",
    "        print('Standard deviation of scaled difference = ' + str(std))\n",
    "        print('Maximum of scaled difference = ' + str(max))\n",
    "        print('Mean of scaled difference = ' + str(mean))\n",
    "        \n",
    "        # # Write to excel\n",
    "        ws.cell(column=i+2, row=1, value='Vertical')\n",
    "        ws.cell(column=i+2, row=3, value=std)\n",
    "        ws.cell(column=i+2, row=4, value=max)\n",
    "        ws.cell(column=i+2, row=5, value=mean)\n",
    "\n",
    "# wb.save(filename='Standard_Deviation and Max.xlsx')\n"
   ]
  },
  {
   "cell_type": "markdown",
   "metadata": {},
   "source": [
    "Standard Deviation between real robot and simulation for Cartesian Velocity of linear movement along a diagonal line and two horizontal lines at top and bottom shaped as mirrored image of letter Z"
   ]
  },
  {
   "cell_type": "code",
   "execution_count": 13,
   "metadata": {},
   "outputs": [
    {
     "name": "stdout",
     "output_type": "stream",
     "text": [
      "Standard deviation of scaled difference = 0.16110654111092865\n",
      "Maximum of scaled difference  = 0.9999999999999999\n",
      "Mean of scaled difference = 0.1431671287973773\n"
     ]
    }
   ],
   "source": [
    "#Standard Deviation of Cartesian Velocity - Linear Updated\n",
    "\n",
    "li_Sim = []\n",
    "li_Real =[]\n",
    "\n",
    "#Create a new sheet named 'Updated_Lin'\n",
    "ws = wb.create_sheet(\"Updated Lin\")\n",
    "ws.cell(column=1, row=3, value='Standard Deviation')\n",
    "ws.cell(column=1, row=4, value='Maximum')\n",
    "ws.cell(column=1, row=5, value='Mean')\n",
    "if (len(fileNames_Real)==len(fileNames_Sim)):\n",
    "    for i in range (len(Linear_updated_Real)):\n",
    "\n",
    "        # Read csv\n",
    "        df_Sim = pd.read_csv(Linear_updated_Sim[i], delimiter=';', encoding='cp1252')\n",
    "        df_Real = pd.read_csv(Linear_updated_Real[i], delimiter=';', encoding='cp1252')\n",
    "        li_Sim.append(df_Sim.iloc[1:,:])\n",
    "        li_Real.append(df_Real.iloc[1:,:])\n",
    "\n",
    "        # Scaling\n",
    "        scalar = MinMaxScaler()\n",
    "        scaled_Sim = scalar.fit_transform(li_Sim[i])\n",
    "        scaled_Real = scalar.fit_transform(li_Real[i])\n",
    "        scaled_Sim_df = pd.DataFrame(scaled_Sim, columns=li_Sim[i].columns)\n",
    "        scaled_Real_df = pd.DataFrame(scaled_Real, columns=li_Real[i].columns)\n",
    "\n",
    "        #Calculate standard deviation and the Maximum difference\n",
    "        pos_col = scaled_Sim_df.columns[21]\n",
    "        diff = np.array([abs(scaled_Real_df[pos_col] - scaled_Sim_df[pos_col])])\n",
    "        std = np.nanstd(diff)\n",
    "        max = np.nanmax(diff)\n",
    "        mean = np.nanmean(diff)\n",
    "        print('Standard deviation of scaled difference = ' + str(std))\n",
    "        print('Maximum of scaled difference  = ' + str(max))\n",
    "        print('Mean of scaled difference = ' + str(mean))\n",
    "        \n",
    "        # # Write to excel\n",
    "        ws.cell(column=i+2, row=1, value='Updated Lin (Z)')\n",
    "        ws.cell(column=i+2, row=3, value=std)\n",
    "        ws.cell(column=i+2, row=4, value=max)\n",
    "        ws.cell(column=i+2, row=5, value=mean)\n",
    "\n",
    "#Save the Workbook\n",
    "wb.save(filename='Standard_Deviation and Max.xlsx')\n"
   ]
  },
  {
   "cell_type": "markdown",
   "metadata": {},
   "source": [
    "Standard Deviation between real robot and simulation of Robot axis for linear movement along the cuboid"
   ]
  },
  {
   "cell_type": "code",
   "execution_count": 14,
   "metadata": {},
   "outputs": [
    {
     "name": "stdout",
     "output_type": "stream",
     "text": [
      "Standard deviation of scaled difference for Axis 1 = 0.11820590355126394\n",
      "Standard deviation of scaled difference for Axis 2 = 0.13762232647217687\n",
      "Standard deviation of scaled difference for Axis 3 = 0.059561677983648635\n",
      "Standard deviation of scaled difference for Axis 4 = 0.09371153272630643\n",
      "Standard deviation of scaled difference for Axis 5 = 0.08474262395795443\n",
      "Standard deviation of scaled difference for Axis 6 = 0.06945385870491867\n",
      "Standard deviation of scaled difference for Axis 1 = 0.03136035073482118\n",
      "Standard deviation of scaled difference for Axis 2 = 0.03429929960042005\n",
      "Standard deviation of scaled difference for Axis 3 = 0.03346630074544385\n",
      "Standard deviation of scaled difference for Axis 4 = 0.026299502389075337\n",
      "Standard deviation of scaled difference for Axis 5 = 0.028205615401891957\n",
      "Standard deviation of scaled difference for Axis 6 = 0.02508514462871121\n",
      "Standard deviation of scaled difference for Axis 1 = 0.10344699531528634\n",
      "Standard deviation of scaled difference for Axis 2 = 0.17112287949933774\n",
      "Standard deviation of scaled difference for Axis 3 = 0.10512697845951632\n",
      "Standard deviation of scaled difference for Axis 4 = 0.08616919502045739\n",
      "Standard deviation of scaled difference for Axis 5 = 0.15986385931491645\n",
      "Standard deviation of scaled difference for Axis 6 = 0.06458061763815925\n",
      "Standard deviation of scaled difference for Axis 1 = 0.10026635283939166\n",
      "Standard deviation of scaled difference for Axis 2 = 0.13565073927601773\n",
      "Standard deviation of scaled difference for Axis 3 = 0.12713390805106503\n",
      "Standard deviation of scaled difference for Axis 4 = 0.07369798198355301\n",
      "Standard deviation of scaled difference for Axis 5 = 0.18504268463657597\n",
      "Standard deviation of scaled difference for Axis 6 = 0.08335949877338682\n",
      "Standard deviation of scaled difference for Axis 1 = 0.1008264734410491\n",
      "Standard deviation of scaled difference for Axis 2 = 0.1231727714504943\n",
      "Standard deviation of scaled difference for Axis 3 = 0.11830084439287154\n",
      "Standard deviation of scaled difference for Axis 4 = 0.07530479261559696\n",
      "Standard deviation of scaled difference for Axis 5 = 0.1853685584745448\n",
      "Standard deviation of scaled difference for Axis 6 = 0.08176751009661043\n",
      "Standard deviation of scaled difference for Axis 1 = 0.07919348390661732\n",
      "Standard deviation of scaled difference for Axis 2 = 0.1380466719077388\n",
      "Standard deviation of scaled difference for Axis 3 = 0.1073543596419539\n",
      "Standard deviation of scaled difference for Axis 4 = 0.08175452689209742\n",
      "Standard deviation of scaled difference for Axis 5 = 0.14383962450881368\n",
      "Standard deviation of scaled difference for Axis 6 = 0.08355746418490248\n"
     ]
    }
   ],
   "source": [
    "#Standard Deviation of robot axis - Linear\n",
    "\n",
    "li_Sim = []\n",
    "li_Real =[]\n",
    "wb = Workbook()\n",
    "#Get currently active sheet and name it as 'Linear'\n",
    "ws = wb.active\n",
    "ws.title = \"Linear\"\n",
    "\n",
    "# ws.cell(column=1, row=4, value='Maximum')\n",
    "if (len(fileNames_Real)==len(fileNames_Sim)):\n",
    "    for i in range (len(fileNames_Real)):\n",
    "\n",
    "        ws.cell(column=1, row=i+3, value='Std_dev Rect' + str(i+1))\n",
    "\n",
    "        # Read csv\n",
    "        df_Sim = pd.read_csv(fileNames_Sim[i], delimiter=';', encoding='cp1252')\n",
    "        df_Real = pd.read_csv(fileNames_Real[i], delimiter=';', encoding='cp1252')\n",
    "        li_Sim.append(df_Sim)\n",
    "        li_Real.append(df_Real)\n",
    "\n",
    "        # Scaling\n",
    "        scalar = MinMaxScaler()\n",
    "        scaled_Sim = scalar.fit_transform(li_Sim[i])\n",
    "        scaled_Real = scalar.fit_transform(li_Real[i])\n",
    "        scaled_Sim_df = pd.DataFrame(scaled_Sim, columns=li_Sim[i].columns)\n",
    "        scaled_Real_df = pd.DataFrame(scaled_Real, columns=li_Real[i].columns)\n",
    "\n",
    "        #Calculate standard deviation and the Maximum difference for each axis\n",
    "        for j in range(6):\n",
    "\n",
    "            pos_col = scaled_Sim_df.columns[j+7]\n",
    "            diff = np.array([abs(scaled_Real_df[pos_col] - scaled_Sim_df[pos_col])])\n",
    "            std = np.nanstd(diff)\n",
    "            max = np.nanmax(diff)\n",
    "            print('Standard deviation of scaled difference for Axis ' + str(j+1) + ' = ' + str(std))\n",
    "            # print('Maximum of scaled difference for Axis ' + str(i+1) + ' = ' + str(max))\n",
    "        \n",
    "            # # Write to excel\n",
    "            ws.cell(column=j+2, row=1, value='Axis '+str(j+1))\n",
    "            ws.cell(column=j+2, row=i+3, value=std)\n",
    "            # ws.cell(column=i+2, row=4, value=max)\n",
    "\n",
    "#Save the Workbook\n",
    "wb.save(filename='Standard_Deviation Lin.xlsx')\n"
   ]
  }
 ],
 "metadata": {
  "interpreter": {
   "hash": "07efdcd4b820c98a756949507a4d29d7862823915ec7477944641bea022f4f62"
  },
  "kernelspec": {
   "display_name": "Python 3.8.5 64-bit (conda)",
   "name": "python3"
  },
  "language_info": {
   "codemirror_mode": {
    "name": "ipython",
    "version": 3
   },
   "file_extension": ".py",
   "mimetype": "text/x-python",
   "name": "python",
   "nbconvert_exporter": "python",
   "pygments_lexer": "ipython3",
   "version": "3.9.7"
  },
  "orig_nbformat": 4
 },
 "nbformat": 4,
 "nbformat_minor": 2
}
