{
 "cells": [
  {
   "cell_type": "code",
   "execution_count": 1,
   "metadata": {},
   "outputs": [],
   "source": [
    "import os\n",
    "import pandas as pd\n",
    "import numpy as np\n",
    "from sklearn.preprocessing import MinMaxScaler\n",
    "from openpyxl import Workbook"
   ]
  },
  {
   "cell_type": "markdown",
   "metadata": {},
   "source": [
    "Initialize a workbook"
   ]
  },
  {
   "cell_type": "code",
   "execution_count": 2,
   "metadata": {},
   "outputs": [
    {
     "data": {
      "text/plain": [
       "<Cell 'Sheet'.A4>"
      ]
     },
     "execution_count": 2,
     "metadata": {},
     "output_type": "execute_result"
    }
   ],
   "source": [
    "wb = Workbook()\n",
    "ws = wb.active\n",
    "ws.cell(column=1, row=3, value='Standard Deviation')\n",
    "ws.cell(column=1, row=4, value='Maximum')\n"
   ]
  },
  {
   "cell_type": "markdown",
   "metadata": {},
   "source": [
    "Fetching all the trace files and storing them in two variables. One of them includes trace files of Simulation for Circular movement, while the other variable includes trace files of Real robot."
   ]
  },
  {
   "cell_type": "code",
   "execution_count": 3,
   "metadata": {},
   "outputs": [],
   "source": [
    "# Fetch all files\n",
    "PATH = './'\n",
    "fileNames = os.listdir(PATH)\n",
    "fileNames_Sim = [file for file in fileNames if '.csv' and 'KukaOL' in file]\n",
    "fileNames_Real = [file for file in fileNames if '.csv' and 'WINDOWS' in file]\n",
    "\n",
    "Linear_vert_Real = [file for file in fileNames_Real if 'vertical' in file]\n",
    "Linear_vert_Sim = [file for file in fileNames_Sim if 'vertical' in file]\n",
    "\n",
    "Linear_updated_Real = [file for file in fileNames_Real if 'updated' in file]\n",
    "Linear_updated_Sim = [file for file in fileNames_Sim if 'updated' in file]\n"
   ]
  },
  {
   "cell_type": "markdown",
   "metadata": {},
   "source": [
    "Standard Deviation between real robot and simulation for Cartesian Velocity of Linear movement along the cuboid"
   ]
  },
  {
   "cell_type": "code",
   "execution_count": 4,
   "metadata": {},
   "outputs": [
    {
     "name": "stdout",
     "output_type": "stream",
     "text": [
      "Standard deviation of scaled difference for Quad 1 = 0.0038311164011403595\n",
      "Maximum of scaled difference for Quad 1 = 0.01663162550035524\n",
      "Mean of scaled difference for Quad 1 = 0.006196401264470401\n",
      "Standard deviation of scaled difference for Quad 2 = 0.006255949698204192\n",
      "Maximum of scaled difference for Quad 2 = 0.027735205158864962\n",
      "Mean of scaled difference for Quad 2 = 0.009455005521889643\n",
      "Standard deviation of scaled difference for Quad 3 = 0.019459975933353232\n",
      "Maximum of scaled difference for Quad 3 = 0.07739125956626192\n",
      "Mean of scaled difference for Quad 3 = 0.026331369204892503\n",
      "Standard deviation of scaled difference for Quad 4 = 0.010229647802407609\n",
      "Maximum of scaled difference for Quad 4 = 0.06413217448647635\n",
      "Mean of scaled difference for Quad 4 = 0.01599737928832565\n"
     ]
    }
   ],
   "source": [
    "#Standard Deviation of Cartesian Velocity - Linear Cube\n",
    "\n",
    "li_Sim = []\n",
    "li_Real =[]\n",
    "wb = Workbook()\n",
    "\n",
    "#Get currently active sheet and name it as 'Cartesian Velocity - Linear'\n",
    "ws = wb.active\n",
    "ws.title = \"Cartesian Velocity - Linear\"\n",
    "ws.cell(column=1, row=3, value='Standard Deviation')\n",
    "ws.cell(column=1, row=4, value='Maximum')\n",
    "ws.cell(column=1, row=5, value='Mean')\n",
    "if (len(fileNames_Real)==len(fileNames_Sim)):\n",
    "    # Calculate the standard deviation of cartesian velocity for only last four csv files, as the first two include traces for\n",
    "    # linear_vertical and linear_updated\n",
    "    for i in range (len(fileNames_Real)-2):\n",
    "\n",
    "        # Read csv\n",
    "        # Read only the last four csv files\n",
    "        df_Sim = pd.read_csv(fileNames_Sim[i+2], delimiter=';', encoding='cp1252')\n",
    "        df_Real = pd.read_csv(fileNames_Real[i+2], delimiter=';', encoding='cp1252')\n",
    "        li_Sim.append(df_Sim.iloc[1:,:])\n",
    "        li_Real.append(df_Real.iloc[1:,:])\n",
    "\n",
    "        # Scaling\n",
    "        scalar = MinMaxScaler()\n",
    "        scaled_Sim = scalar.fit_transform(li_Sim[i])\n",
    "        scaled_Real = scalar.fit_transform(li_Real[i])\n",
    "        scaled_Sim_df = pd.DataFrame(scaled_Sim, columns=li_Sim[i].columns)\n",
    "        scaled_Real_df = pd.DataFrame(scaled_Real, columns=li_Real[i].columns)\n",
    "\n",
    "        #Calculate standard deviation and the Maximum difference\n",
    "        pos_col = scaled_Sim_df.columns[21]\n",
    "        diff = np.array([abs(scaled_Real_df[pos_col] - scaled_Sim_df[pos_col])])\n",
    "        std = np.nanstd(diff)\n",
    "        max = np.nanmax(diff)\n",
    "        mean = np.nanmean(diff)\n",
    "        print('Standard deviation of scaled difference for Quad ' + str(i+1) + ' = ' + str(std))\n",
    "        print('Maximum of scaled difference for Quad ' + str(i+1) + ' = ' + str(max))\n",
    "        print('Mean of scaled difference for Quad ' + str(i+1) + ' = ' + str(mean))\n",
    "\n",
    "        # # Write to excel\n",
    "        ws.cell(column=i+2, row=1, value='Rectangle '+str(i+1))\n",
    "        ws.cell(column=i+2, row=3, value=std)\n",
    "        ws.cell(column=i+2, row=4, value=max)\n",
    "        ws.cell(column=i+2, row=5, value=mean)\n",
    "\n",
    "# wb.save(filename='Standard_Deviation and Max.xlsx')\n"
   ]
  },
  {
   "cell_type": "markdown",
   "metadata": {},
   "source": [
    "Standard Deviation between real robot and simulation for Cartesian Velocity of linear movement along a vertical line"
   ]
  },
  {
   "cell_type": "code",
   "execution_count": 5,
   "metadata": {},
   "outputs": [
    {
     "name": "stdout",
     "output_type": "stream",
     "text": [
      "Standard deviation of scaled difference = 0.04829447106908376\n",
      "Maximum of scaled difference = 0.36464776839892865\n",
      "Mean of scaled difference = 0.01951392687395583\n"
     ]
    }
   ],
   "source": [
    "#Standard Deviation of Cartesian Velocity - Linear Vertical\n",
    "\n",
    "li_Sim = []\n",
    "li_Real =[]\n",
    "\n",
    "#Create a new sheet named 'Vertical'\n",
    "ws = wb.create_sheet(\"Vertical\")\n",
    "ws.cell(column=1, row=3, value='Standard Deviation')\n",
    "ws.cell(column=1, row=4, value='Maximum')\n",
    "ws.cell(column=1, row=5, value='Mean')\n",
    "if (len(fileNames_Real)==len(fileNames_Sim)):\n",
    "    for i in range (len(Linear_vert_Real)):\n",
    "\n",
    "        # Read csv\n",
    "        df_Sim = pd.read_csv(Linear_vert_Sim[i], delimiter=';', encoding='cp1252')\n",
    "        df_Real = pd.read_csv(Linear_vert_Real[i], delimiter=';', encoding='cp1252')\n",
    "        li_Sim.append(df_Sim.iloc[1:,:])\n",
    "        li_Real.append(df_Real.iloc[1:,:])\n",
    "\n",
    "        # Scaling\n",
    "        scalar = MinMaxScaler()\n",
    "        scaled_Sim = scalar.fit_transform(li_Sim[i])\n",
    "        scaled_Real = scalar.fit_transform(li_Real[i])\n",
    "        scaled_Sim_df = pd.DataFrame(scaled_Sim, columns=li_Sim[i].columns)\n",
    "        scaled_Real_df = pd.DataFrame(scaled_Real, columns=li_Real[i].columns)\n",
    "\n",
    "        #Calculate standard deviation and the Maximum difference\n",
    "        pos_col = scaled_Sim_df.columns[21]\n",
    "        diff = np.array([abs(scaled_Real_df[pos_col] - scaled_Sim_df[pos_col])])\n",
    "        std = np.nanstd(diff)\n",
    "        max = np.nanmax(diff)\n",
    "        mean = np.nanmean(diff)\n",
    "        print('Standard deviation of scaled difference = ' + str(std))\n",
    "        print('Maximum of scaled difference = ' + str(max))\n",
    "        print('Mean of scaled difference = ' + str(mean))\n",
    "        \n",
    "        # # Write to excel\n",
    "        ws.cell(column=i+2, row=1, value='Vertical')\n",
    "        ws.cell(column=i+2, row=3, value=std)\n",
    "        ws.cell(column=i+2, row=4, value=max)\n",
    "        ws.cell(column=i+2, row=5, value=mean)\n",
    "\n",
    "# wb.save(filename='Standard_Deviation and Max.xlsx')\n"
   ]
  },
  {
   "cell_type": "markdown",
   "metadata": {},
   "source": [
    "Standard Deviation between real robot and simulation for Cartesian Velocity of linear movement along a diagonal line and two horizontal lines at top and bottom shaped as mirrored image of letter Z"
   ]
  },
  {
   "cell_type": "code",
   "execution_count": 6,
   "metadata": {},
   "outputs": [
    {
     "name": "stdout",
     "output_type": "stream",
     "text": [
      "Standard deviation of scaled difference = 0.16110654111092865\n",
      "Maximum of scaled difference  = 0.9999999999999999\n",
      "Mean of scaled difference = 0.1431671287973773\n"
     ]
    }
   ],
   "source": [
    "#Standard Deviation of Cartesian Velocity - Linear Updated\n",
    "\n",
    "li_Sim = []\n",
    "li_Real =[]\n",
    "\n",
    "#Create a new sheet named 'Updated_Lin'\n",
    "ws = wb.create_sheet(\"Updated Lin\")\n",
    "ws.cell(column=1, row=3, value='Standard Deviation')\n",
    "ws.cell(column=1, row=4, value='Maximum')\n",
    "ws.cell(column=1, row=5, value='Mean')\n",
    "if (len(fileNames_Real)==len(fileNames_Sim)):\n",
    "    for i in range (len(Linear_updated_Real)):\n",
    "\n",
    "        # Read csv\n",
    "        df_Sim = pd.read_csv(Linear_updated_Sim[i], delimiter=';', encoding='cp1252')\n",
    "        df_Real = pd.read_csv(Linear_updated_Real[i], delimiter=';', encoding='cp1252')\n",
    "        li_Sim.append(df_Sim.iloc[1:,:])\n",
    "        li_Real.append(df_Real.iloc[1:,:])\n",
    "\n",
    "        # Scaling\n",
    "        scalar = MinMaxScaler()\n",
    "        scaled_Sim = scalar.fit_transform(li_Sim[i])\n",
    "        scaled_Real = scalar.fit_transform(li_Real[i])\n",
    "        scaled_Sim_df = pd.DataFrame(scaled_Sim, columns=li_Sim[i].columns)\n",
    "        scaled_Real_df = pd.DataFrame(scaled_Real, columns=li_Real[i].columns)\n",
    "\n",
    "        #Calculate standard deviation and the Maximum difference\n",
    "        pos_col = scaled_Sim_df.columns[21]\n",
    "        diff = np.array([abs(scaled_Real_df[pos_col] - scaled_Sim_df[pos_col])])\n",
    "        std = np.nanstd(diff)\n",
    "        max = np.nanmax(diff)\n",
    "        mean = np.nanmean(diff)\n",
    "        print('Standard deviation of scaled difference = ' + str(std))\n",
    "        print('Maximum of scaled difference  = ' + str(max))\n",
    "        print('Mean of scaled difference = ' + str(mean))\n",
    "        \n",
    "        # # Write to excel\n",
    "        ws.cell(column=i+2, row=1, value='Updated Lin (Z)')\n",
    "        ws.cell(column=i+2, row=3, value=std)\n",
    "        ws.cell(column=i+2, row=4, value=max)\n",
    "        ws.cell(column=i+2, row=5, value=mean)\n",
    "\n",
    "#Save the Workbook\n",
    "wb.save(filename='Standard_Deviation and Max.xlsx')\n"
   ]
  },
  {
   "cell_type": "markdown",
   "metadata": {},
   "source": [
    "Standard Deviation between real robot and simulation of Robot axis for linear movement along the cuboid"
   ]
  },
  {
   "cell_type": "code",
   "execution_count": 7,
   "metadata": {},
   "outputs": [
    {
     "name": "stdout",
     "output_type": "stream",
     "text": [
      "Standard deviation of scaled difference for Axis 1 = 0.11820590355126394\n",
      "Standard deviation of scaled difference for Axis 2 = 0.13762232647217687\n",
      "Standard deviation of scaled difference for Axis 3 = 0.059561677983648635\n",
      "Standard deviation of scaled difference for Axis 4 = 0.09371153272630643\n",
      "Standard deviation of scaled difference for Axis 5 = 0.08474262395795443\n",
      "Standard deviation of scaled difference for Axis 6 = 0.06945385870491867\n",
      "Standard deviation of scaled difference for Axis 1 = 0.03136035073482118\n",
      "Standard deviation of scaled difference for Axis 2 = 0.03429929960042005\n",
      "Standard deviation of scaled difference for Axis 3 = 0.03346630074544385\n",
      "Standard deviation of scaled difference for Axis 4 = 0.026299502389075337\n",
      "Standard deviation of scaled difference for Axis 5 = 0.028205615401891957\n",
      "Standard deviation of scaled difference for Axis 6 = 0.02508514462871121\n",
      "Standard deviation of scaled difference for Axis 1 = 0.00222625182058704\n",
      "Standard deviation of scaled difference for Axis 2 = 0.001569787117169649\n",
      "Standard deviation of scaled difference for Axis 3 = 0.0013255772260747545\n",
      "Standard deviation of scaled difference for Axis 4 = 0.0018572632978132\n",
      "Standard deviation of scaled difference for Axis 5 = 0.0017386896897598123\n",
      "Standard deviation of scaled difference for Axis 6 = 0.0015796233853687602\n",
      "Standard deviation of scaled difference for Axis 1 = 0.0019916149444597847\n",
      "Standard deviation of scaled difference for Axis 2 = 0.0012913504787485926\n",
      "Standard deviation of scaled difference for Axis 3 = 0.0012449589827921265\n",
      "Standard deviation of scaled difference for Axis 4 = 0.0012186240704701273\n",
      "Standard deviation of scaled difference for Axis 5 = 0.001429028797842887\n",
      "Standard deviation of scaled difference for Axis 6 = 0.0011224562852568622\n",
      "Standard deviation of scaled difference for Axis 1 = 0.004350634231105001\n",
      "Standard deviation of scaled difference for Axis 2 = 0.004538637975386308\n",
      "Standard deviation of scaled difference for Axis 3 = 0.0033145203842024776\n",
      "Standard deviation of scaled difference for Axis 4 = 0.004140273757784414\n",
      "Standard deviation of scaled difference for Axis 5 = 0.0042615005878786204\n",
      "Standard deviation of scaled difference for Axis 6 = 0.0032467562776081573\n",
      "Standard deviation of scaled difference for Axis 1 = 0.0005953469904289718\n",
      "Standard deviation of scaled difference for Axis 2 = 0.0004268645716496332\n",
      "Standard deviation of scaled difference for Axis 3 = 0.0005533050419349652\n",
      "Standard deviation of scaled difference for Axis 4 = 0.0007503747311340246\n",
      "Standard deviation of scaled difference for Axis 5 = 0.0007675501956847752\n",
      "Standard deviation of scaled difference for Axis 6 = 0.0006647402874995507\n"
     ]
    }
   ],
   "source": [
    "#Standard Deviation of robot axis - Linear\n",
    "\n",
    "li_Sim = []\n",
    "li_Real =[]\n",
    "wb = Workbook()\n",
    "#Get currently active sheet and name it as 'Linear'\n",
    "ws = wb.active\n",
    "ws.title = \"Linear\"\n",
    "\n",
    "# ws.cell(column=1, row=4, value='Maximum')\n",
    "if (len(fileNames_Real)==len(fileNames_Sim)):\n",
    "    for i in range (len(fileNames_Real)):\n",
    "\n",
    "        ws.cell(column=1, row=i+3, value='Std_dev Rect' + str(i+1))\n",
    "\n",
    "        # Read csv\n",
    "        df_Sim = pd.read_csv(fileNames_Sim[i], delimiter=';', encoding='cp1252')\n",
    "        df_Real = pd.read_csv(fileNames_Real[i], delimiter=';', encoding='cp1252')\n",
    "        li_Sim.append(df_Sim)\n",
    "        li_Real.append(df_Real)\n",
    "\n",
    "        # Scaling\n",
    "        scalar = MinMaxScaler()\n",
    "        scaled_Sim = scalar.fit_transform(li_Sim[i])\n",
    "        scaled_Real = scalar.fit_transform(li_Real[i])\n",
    "        scaled_Sim_df = pd.DataFrame(scaled_Sim, columns=li_Sim[i].columns)\n",
    "        scaled_Real_df = pd.DataFrame(scaled_Real, columns=li_Real[i].columns)\n",
    "\n",
    "        #Calculate standard deviation and the Maximum difference for each axis\n",
    "        for j in range(6):\n",
    "\n",
    "            pos_col = scaled_Sim_df.columns[j+7]\n",
    "            diff = np.array([abs(scaled_Real_df[pos_col] - scaled_Sim_df[pos_col])])\n",
    "            std = np.nanstd(diff)\n",
    "            max = np.nanmax(diff)\n",
    "            print('Standard deviation of scaled difference for Axis ' + str(j+1) + ' = ' + str(std))\n",
    "            # print('Maximum of scaled difference for Axis ' + str(i+1) + ' = ' + str(max))\n",
    "        \n",
    "            # # Write to excel\n",
    "            ws.cell(column=j+2, row=1, value='Axis '+str(j+1))\n",
    "            ws.cell(column=j+2, row=i+3, value=std)\n",
    "            # ws.cell(column=i+2, row=4, value=max)\n",
    "\n",
    "#Save the Workbook\n",
    "wb.save(filename='Standard_Deviation Lin.xlsx')\n"
   ]
  }
 ],
 "metadata": {
  "interpreter": {
   "hash": "07efdcd4b820c98a756949507a4d29d7862823915ec7477944641bea022f4f62"
  },
  "kernelspec": {
   "display_name": "Python 3.8.5 64-bit (conda)",
   "name": "python3"
  },
  "language_info": {
   "codemirror_mode": {
    "name": "ipython",
    "version": 3
   },
   "file_extension": ".py",
   "mimetype": "text/x-python",
   "name": "python",
   "nbconvert_exporter": "python",
   "pygments_lexer": "ipython3",
   "version": "3.9.7"
  },
  "orig_nbformat": 4
 },
 "nbformat": 4,
 "nbformat_minor": 2
}
